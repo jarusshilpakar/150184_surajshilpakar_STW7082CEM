{
 "cells": [
  {
   "cell_type": "code",
   "execution_count": 2,
   "id": "e68ac68c",
   "metadata": {},
   "outputs": [],
   "source": [
    "#import required libraries\n",
    "import pandas as pd \n",
    "import numpy as np\n",
    "import pyspark"
   ]
  },
  {
   "cell_type": "code",
   "execution_count": 3,
   "id": "bdda3f3a",
   "metadata": {},
   "outputs": [],
   "source": [
    "from pyspark.sql import SparkSession"
   ]
  },
  {
   "cell_type": "code",
   "execution_count": 4,
   "id": "a7c3d948",
   "metadata": {},
   "outputs": [
    {
     "name": "stderr",
     "output_type": "stream",
     "text": [
      "23/08/25 08:27:28 WARN Utils: Your hostname, Imagines-MacBook-Pro.local resolves to a loopback address: 127.0.0.1; using 192.168.254.189 instead (on interface en0)\n",
      "23/08/25 08:27:28 WARN Utils: Set SPARK_LOCAL_IP if you need to bind to another address\n",
      "Setting default log level to \"WARN\".\n",
      "To adjust logging level use sc.setLogLevel(newLevel). For SparkR, use setLogLevel(newLevel).\n",
      "23/08/25 08:27:29 WARN NativeCodeLoader: Unable to load native-hadoop library for your platform... using builtin-java classes where applicable\n",
      "23/08/25 08:27:29 WARN Utils: Service 'SparkUI' could not bind on port 4040. Attempting port 4041.\n"
     ]
    }
   ],
   "source": [
    "#Start spark session\n",
    "spark = SparkSession.builder.appName(\"CarPricePrediction\").getOrCreate()"
   ]
  },
  {
   "cell_type": "code",
   "execution_count": 5,
   "id": "80238da7",
   "metadata": {},
   "outputs": [],
   "source": [
    "# Using read.csv to read the dataset\n",
    "df = spark.read.csv(\"/Users/nexus/Downloads/Car details v3.csv\", inferSchema=True, header=True)"
   ]
  },
  {
   "cell_type": "code",
   "execution_count": 6,
   "id": "94726e38",
   "metadata": {},
   "outputs": [
    {
     "ename": "IndentationError",
     "evalue": "unexpected indent (3655476946.py, line 3)",
     "output_type": "error",
     "traceback": [
      "\u001b[0;36m  File \u001b[0;32m\"/var/folders/04/v042dqwd04v31cz7p8v17w3m0000gp/T/ipykernel_2358/3655476946.py\"\u001b[0;36m, line \u001b[0;32m3\u001b[0m\n\u001b[0;31m    print(col, \"\\t\", \"with null values: \", df.filter(df[col].isNull()).count())\u001b[0m\n\u001b[0m    ^\u001b[0m\n\u001b[0;31mIndentationError\u001b[0m\u001b[0;31m:\u001b[0m unexpected indent\n"
     ]
    }
   ],
   "source": [
    "# Checks if there are any null values in the column\n",
    "for col in df.columns:s\n",
    "  print(col, \"\\t\", \"with null values: \", df.filter(df[col].isNull()).count())"
   ]
  },
  {
   "cell_type": "code",
   "execution_count": null,
   "id": "15233491",
   "metadata": {},
   "outputs": [],
   "source": [
    "# Checks if there are any values with '?'\n",
    "for col in df.columns:\n",
    "  print(col, \"\\t\", \"with ? values: \", df.filter(df[col]==\"?\").count())"
   ]
  },
  {
   "cell_type": "code",
   "execution_count": 7,
   "id": "75001033",
   "metadata": {},
   "outputs": [
    {
     "name": "stdout",
     "output_type": "stream",
     "text": [
      "root\n",
      " |-- name: string (nullable = true)\n",
      " |-- year: integer (nullable = true)\n",
      " |-- selling_price: integer (nullable = true)\n",
      " |-- km_driven: integer (nullable = true)\n",
      " |-- fuel: string (nullable = true)\n",
      " |-- seller_type: string (nullable = true)\n",
      " |-- transmission: string (nullable = true)\n",
      " |-- owner: string (nullable = true)\n",
      " |-- mileage: string (nullable = true)\n",
      " |-- engine: string (nullable = true)\n",
      " |-- max_power: string (nullable = true)\n",
      " |-- torque: string (nullable = true)\n",
      " |-- seats: integer (nullable = true)\n",
      "\n"
     ]
    }
   ],
   "source": [
    "df.printSchema() # outputs the schema types which are automatically determined by spark"
   ]
  },
  {
   "cell_type": "code",
   "execution_count": 8,
   "id": "17260db0",
   "metadata": {},
   "outputs": [
    {
     "name": "stdout",
     "output_type": "stream",
     "text": [
      "+--------------------+----+-------------+---------+------+-----------+------------+------------+----------+-------+----------+--------------------+-----+\n",
      "|                name|year|selling_price|km_driven|  fuel|seller_type|transmission|       owner|   mileage| engine| max_power|              torque|seats|\n",
      "+--------------------+----+-------------+---------+------+-----------+------------+------------+----------+-------+----------+--------------------+-----+\n",
      "|Maruti Swift Dzir...|2014|       450000|   145500|Diesel| Individual|      Manual| First Owner| 23.4 kmpl|1248 CC|    74 bhp|      190Nm@ 2000rpm|    5|\n",
      "|Skoda Rapid 1.5 T...|2014|       370000|   120000|Diesel| Individual|      Manual|Second Owner|21.14 kmpl|1498 CC|103.52 bhp| 250Nm@ 1500-2500rpm|    5|\n",
      "|Honda City 2017-2...|2006|       158000|   140000|Petrol| Individual|      Manual| Third Owner| 17.7 kmpl|1497 CC|    78 bhp|12.7@ 2,700(kgm@ ...|    5|\n",
      "|Hyundai i20 Sport...|2010|       225000|   127000|Diesel| Individual|      Manual| First Owner| 23.0 kmpl|1396 CC|    90 bhp|22.4 kgm at 1750-...|    5|\n",
      "|Maruti Swift VXI ...|2007|       130000|   120000|Petrol| Individual|      Manual| First Owner| 16.1 kmpl|1298 CC|  88.2 bhp|11.5@ 4,500(kgm@ ...|    5|\n",
      "|Hyundai Xcent 1.2...|2017|       440000|    45000|Petrol| Individual|      Manual| First Owner|20.14 kmpl|1197 CC| 81.86 bhp|   113.75nm@ 4000rpm|    5|\n",
      "|Maruti Wagon R LX...|2007|        96000|   175000|   LPG| Individual|      Manual| First Owner|17.3 km/kg|1061 CC|  57.5 bhp|7.8@ 4,500(kgm@ rpm)|    5|\n",
      "|  Maruti 800 DX BSII|2001|        45000|     5000|Petrol| Individual|      Manual|Second Owner| 16.1 kmpl| 796 CC|    37 bhp|       59Nm@ 2500rpm|    4|\n",
      "|    Toyota Etios VXD|2011|       350000|    90000|Diesel| Individual|      Manual| First Owner|23.59 kmpl|1364 CC|  67.1 bhp| 170Nm@ 1800-2400rpm|    5|\n",
      "|Ford Figo Diesel ...|2013|       200000|   169000|Diesel| Individual|      Manual| First Owner| 20.0 kmpl|1399 CC|  68.1 bhp|      160Nm@ 2000rpm|    5|\n",
      "|Renault Duster 11...|2014|       500000|    68000|Diesel| Individual|      Manual|Second Owner|19.01 kmpl|1461 CC|108.45 bhp|      248Nm@ 2250rpm|    5|\n",
      "|       Maruti Zen LX|2005|        92000|   100000|Petrol| Individual|      Manual|Second Owner| 17.3 kmpl| 993 CC|    60 bhp|       78Nm@ 4500rpm|    5|\n",
      "|Maruti Swift Dzir...|2009|       280000|   140000|Diesel| Individual|      Manual|Second Owner| 19.3 kmpl|1248 CC|  73.9 bhp|      190Nm@ 2000rpm|    5|\n",
      "|Maruti Swift 1.3 VXi|2007|       200000|    80000|Petrol| Individual|      Manual|Second Owner|      null|   null|      null|                null| null|\n",
      "|Maruti Wagon R LX...|2009|       180000|    90000|Petrol| Individual|      Manual|Second Owner| 18.9 kmpl|1061 CC|    67 bhp|       84Nm@ 3500rpm|    5|\n",
      "|Mahindra KUV 100 ...|2016|       400000|    40000|Petrol| Individual|      Manual| First Owner|18.15 kmpl|1198 CC|    82 bhp| 115Nm@ 3500-3600rpm|    5|\n",
      "|Maruti Ertiga SHV...|2016|       778000|    70000|Diesel| Individual|      Manual|Second Owner|24.52 kmpl|1248 CC|  88.5 bhp|      200Nm@ 1750rpm|    7|\n",
      "|Hyundai i20 1.4 C...|2012|       500000|    53000|Diesel| Individual|      Manual|Second Owner| 23.0 kmpl|1396 CC|    90 bhp|22.4 kgm at 1750-...|    5|\n",
      "|      Maruti Alto LX|2002|       150000|    80000|Petrol| Individual|      Manual|Second Owner| 19.7 kmpl| 796 CC|  46.3 bhp|       62Nm@ 3000rpm|    5|\n",
      "|Hyundai i20 2015-...|2016|       680000|   100000|Diesel| Individual|      Manual| First Owner|22.54 kmpl|1396 CC| 88.73 bhp|219.7Nm@ 1500-275...|    5|\n",
      "+--------------------+----+-------------+---------+------+-----------+------------+------------+----------+-------+----------+--------------------+-----+\n",
      "only showing top 20 rows\n",
      "\n"
     ]
    }
   ],
   "source": [
    "df.show()"
   ]
  },
  {
   "cell_type": "code",
   "execution_count": 9,
   "id": "966611f1",
   "metadata": {},
   "outputs": [
    {
     "data": {
      "text/plain": [
       "['name',\n",
       " 'year',\n",
       " 'selling_price',\n",
       " 'km_driven',\n",
       " 'fuel',\n",
       " 'seller_type',\n",
       " 'transmission',\n",
       " 'owner',\n",
       " 'mileage',\n",
       " 'engine',\n",
       " 'max_power',\n",
       " 'torque',\n",
       " 'seats']"
      ]
     },
     "execution_count": 9,
     "metadata": {},
     "output_type": "execute_result"
    }
   ],
   "source": [
    "# Checking the columns of the dataframe \n",
    "df.columns"
   ]
  },
  {
   "cell_type": "code",
   "execution_count": 10,
   "id": "f2e861c8",
   "metadata": {},
   "outputs": [
    {
     "data": {
      "text/plain": [
       "DataFrame[summary: string, name: string, year: string, selling_price: string, km_driven: string, fuel: string, seller_type: string, transmission: string, owner: string, mileage: string, engine: string, max_power: string, torque: string, seats: string]"
      ]
     },
     "execution_count": 10,
     "metadata": {},
     "output_type": "execute_result"
    }
   ],
   "source": [
    "# Checking the type of each column in the dataframe\n",
    "df.describe()"
   ]
  },
  {
   "cell_type": "code",
   "execution_count": 11,
   "id": "b61bd6fe",
   "metadata": {},
   "outputs": [],
   "source": [
    "#create temporary view\n",
    "df.createOrReplaceTempView(\"car\")"
   ]
  },
  {
   "cell_type": "code",
   "execution_count": 12,
   "id": "7aecef01",
   "metadata": {},
   "outputs": [
    {
     "name": "stdout",
     "output_type": "stream",
     "text": [
      "+-------------+----+-------------+---------+------+-----------+------------+-----------+---------+------+---------+-------------+-----+\n",
      "|         name|year|selling_price|km_driven|  fuel|seller_type|transmission|      owner|  mileage|engine|max_power|       torque|seats|\n",
      "+-------------+----+-------------+---------+------+-----------+------------+-----------+---------+------+---------+-------------+-----+\n",
      "|Maruti 800 AC|1997|        29999|    80000|Petrol| Individual|      Manual|Third Owner|16.1 kmpl|796 CC|   37 bhp|59Nm@ 2500rpm|    4|\n",
      "+-------------+----+-------------+---------+------+-----------+------------+-----------+---------+------+---------+-------------+-----+\n",
      "\n"
     ]
    }
   ],
   "source": [
    "# taking the cars whose selling price is less than 30000 and the transmission is Manual\n",
    "result = spark.sql(\"SELECT * FROM car WHERE transmission = 'Manual' and selling_price < 30000\")\n",
    "result.show()"
   ]
  },
  {
   "cell_type": "code",
   "execution_count": 11,
   "id": "6d33b9a0",
   "metadata": {},
   "outputs": [
    {
     "name": "stdout",
     "output_type": "stream",
     "text": [
      "+-------------+----+-------------+---------+------+-----------+------------+-----------+---------+------+---------+-------------+-----+\n",
      "|         name|year|selling_price|km_driven|  fuel|seller_type|transmission|      owner|  mileage|engine|max_power|       torque|seats|\n",
      "+-------------+----+-------------+---------+------+-----------+------------+-----------+---------+------+---------+-------------+-----+\n",
      "|Maruti 800 AC|1997|        29999|    80000|Petrol| Individual|      Manual|Third Owner|16.1 kmpl|796 CC|   37 bhp|59Nm@ 2500rpm|    4|\n",
      "+-------------+----+-------------+---------+------+-----------+------------+-----------+---------+------+---------+-------------+-----+\n",
      "\n"
     ]
    }
   ],
   "source": [
    "# taking the cars whose selling price is less than 30000 and the transmission is Manual\n",
    "df.filter((df[\"transmission\"] == \"Manual\") & (df[\"selling_price\"]<30000)).show()"
   ]
  },
  {
   "cell_type": "code",
   "execution_count": 16,
   "id": "4c770b0d",
   "metadata": {},
   "outputs": [
    {
     "name": "stdout",
     "output_type": "stream",
     "text": [
      "+--------------------+-----------+------------------+\n",
      "|                name|count(name)|avg(selling_price)|\n",
      "+--------------------+-----------+------------------+\n",
      "|  Maruti 800 DX BSII|          1|           45000.0|\n",
      "| Honda City 1.5 S MT|          7|398714.28571428574|\n",
      "|Mahindra Bolero 2...|         19| 529894.6315789474|\n",
      "|Toyota Etios Liva GD|         14| 362285.5714285714|\n",
      "|Tata Indica V2 Tu...|          2|          205000.0|\n",
      "|Mahindra KUV 100 ...|          3|          380000.0|\n",
      "|Mahindra Xylo D2 ...|          3| 321666.6666666667|\n",
      "|Datsun GO Anniver...|          1|          385000.0|\n",
      "|Mahindra Bolero S...|          3|          340000.0|\n",
      "|Toyota Innova 2.5...|          1|          850000.0|\n",
      "| Mahindra TUV 300 T4|          3| 569999.6666666666|\n",
      "|    Datsun GO Plus A|          2|          367500.0|\n",
      "|Tata Indica V2 DL...|          4|         117499.75|\n",
      "|Maruti Ciaz 1.4 A...|          5|          781600.0|\n",
      "|Mahindra Scorpio ...|          1|         1250000.0|\n",
      "|Hyundai i20 1.4 Asta|          2|          774500.0|\n",
      "|Maruti Swift Lxi ...|          1|          220000.0|\n",
      "|  Maruti Zen Classic|          1|           58000.0|\n",
      "|      Maruti Zen LXI|         11| 74090.90909090909|\n",
      "|Hyundai Verna 1.6...|         11|452272.63636363635|\n",
      "+--------------------+-----------+------------------+\n",
      "only showing top 20 rows\n",
      "\n"
     ]
    }
   ],
   "source": [
    "result = spark.sql(\"SELECT name, count(name), avg(selling_price) FROM car GROUP BY name\")\n",
    "result.show()"
   ]
  },
  {
   "cell_type": "code",
   "execution_count": 12,
   "id": "7905581f",
   "metadata": {},
   "outputs": [
    {
     "data": {
      "text/plain": [
       "<pyspark.sql.group.GroupedData at 0x7fad50165100>"
      ]
     },
     "execution_count": 12,
     "metadata": {},
     "output_type": "execute_result"
    }
   ],
   "source": [
    "df.groupBy(\"name\")"
   ]
  },
  {
   "cell_type": "code",
   "execution_count": 13,
   "id": "a7502534",
   "metadata": {},
   "outputs": [
    {
     "name": "stdout",
     "output_type": "stream",
     "text": [
      "CodeCache: size=131072Kb used=33683Kb max_used=33939Kb free=97388Kb\n",
      " bounds [0x0000000101f44000, 0x00000001040a4000, 0x0000000109f44000]\n",
      " total_blobs=12163 nmethods=11220 adapters=854\n",
      " compilation: disabled (not enough contiguous free space left)\n",
      "+--------------------+-----+\n",
      "|                name|count|\n",
      "+--------------------+-----+\n",
      "|  Maruti 800 DX BSII|    1|\n",
      "| Honda City 1.5 S MT|    7|\n",
      "|Mahindra Bolero 2...|   19|\n",
      "|Toyota Etios Liva GD|   14|\n",
      "|Tata Indica V2 Tu...|    2|\n",
      "|Mahindra KUV 100 ...|    3|\n",
      "|Mahindra Xylo D2 ...|    3|\n",
      "|Datsun GO Anniver...|    1|\n",
      "|Mahindra Bolero S...|    3|\n",
      "|Toyota Innova 2.5...|    1|\n",
      "| Mahindra TUV 300 T4|    3|\n",
      "|    Datsun GO Plus A|    2|\n",
      "|Tata Indica V2 DL...|    4|\n",
      "|Maruti Ciaz 1.4 A...|    5|\n",
      "|Mahindra Scorpio ...|    1|\n",
      "|Hyundai i20 1.4 Asta|    2|\n",
      "|Maruti Swift Lxi ...|    1|\n",
      "|  Maruti Zen Classic|    1|\n",
      "|      Maruti Zen LXI|   11|\n",
      "|Hyundai Verna 1.6...|   11|\n",
      "+--------------------+-----+\n",
      "only showing top 20 rows\n",
      "\n"
     ]
    },
    {
     "name": "stderr",
     "output_type": "stream",
     "text": [
      "Java HotSpot(TM) 64-Bit Server VM warning: CodeCache is full. Compiler has been disabled.\n",
      "Java HotSpot(TM) 64-Bit Server VM warning: Try increasing the code cache size using -XX:ReservedCodeCacheSize=\n"
     ]
    }
   ],
   "source": [
    "df.groupBy(\"name\").count().show()"
   ]
  },
  {
   "cell_type": "code",
   "execution_count": 15,
   "id": "ccd88275",
   "metadata": {},
   "outputs": [
    {
     "name": "stdout",
     "output_type": "stream",
     "text": [
      "CodeCache: size=131072Kb used=26791Kb max_used=26791Kb free=104280Kb\n",
      " bounds [0x0000000104478000, 0x0000000105ec8000, 0x000000010c478000]\n",
      " total_blobs=10168 nmethods=9211 adapters=869\n",
      " compilation: disabled (not enough contiguous free space left)\n",
      "+--------------------+------------------+\n",
      "|                name|avg(selling_price)|\n",
      "+--------------------+------------------+\n",
      "|  Maruti 800 DX BSII|           45000.0|\n",
      "| Honda City 1.5 S MT|398714.28571428574|\n",
      "|Mahindra Bolero 2...| 529894.6315789474|\n",
      "|Toyota Etios Liva GD| 362285.5714285714|\n",
      "|Tata Indica V2 Tu...|          205000.0|\n",
      "|Mahindra KUV 100 ...|          380000.0|\n",
      "|Mahindra Xylo D2 ...| 321666.6666666667|\n",
      "|Datsun GO Anniver...|          385000.0|\n",
      "|Mahindra Bolero S...|          340000.0|\n",
      "|Toyota Innova 2.5...|          850000.0|\n",
      "| Mahindra TUV 300 T4| 569999.6666666666|\n",
      "|    Datsun GO Plus A|          367500.0|\n",
      "|Tata Indica V2 DL...|         117499.75|\n",
      "|Maruti Ciaz 1.4 A...|          781600.0|\n",
      "|Mahindra Scorpio ...|         1250000.0|\n",
      "|Hyundai i20 1.4 Asta|          774500.0|\n",
      "|Maruti Swift Lxi ...|          220000.0|\n",
      "|  Maruti Zen Classic|           58000.0|\n",
      "|      Maruti Zen LXI| 74090.90909090909|\n",
      "|Hyundai Verna 1.6...|452272.63636363635|\n",
      "+--------------------+------------------+\n",
      "only showing top 20 rows\n",
      "\n"
     ]
    },
    {
     "name": "stderr",
     "output_type": "stream",
     "text": [
      "Java HotSpot(TM) 64-Bit Server VM warning: CodeCache is full. Compiler has been disabled.\n",
      "Java HotSpot(TM) 64-Bit Server VM warning: Try increasing the code cache size using -XX:ReservedCodeCacheSize=\n"
     ]
    }
   ],
   "source": [
    "result = spark.sql(\"SELECT name, avg(selling_price) FROM car GROUP BY name\")\n",
    "result.show()"
   ]
  },
  {
   "cell_type": "code",
   "execution_count": 14,
   "id": "e0e3110a",
   "metadata": {},
   "outputs": [
    {
     "name": "stdout",
     "output_type": "stream",
     "text": [
      "+--------------------+------------------+\n",
      "|                name|avg(selling_price)|\n",
      "+--------------------+------------------+\n",
      "|  Maruti 800 DX BSII|           45000.0|\n",
      "| Honda City 1.5 S MT|398714.28571428574|\n",
      "|Mahindra Bolero 2...| 529894.6315789474|\n",
      "|Toyota Etios Liva GD| 362285.5714285714|\n",
      "|Tata Indica V2 Tu...|          205000.0|\n",
      "|Mahindra KUV 100 ...|          380000.0|\n",
      "|Mahindra Xylo D2 ...| 321666.6666666667|\n",
      "|Datsun GO Anniver...|          385000.0|\n",
      "|Mahindra Bolero S...|          340000.0|\n",
      "|Toyota Innova 2.5...|          850000.0|\n",
      "| Mahindra TUV 300 T4| 569999.6666666666|\n",
      "|    Datsun GO Plus A|          367500.0|\n",
      "|Tata Indica V2 DL...|         117499.75|\n",
      "|Maruti Ciaz 1.4 A...|          781600.0|\n",
      "|Mahindra Scorpio ...|         1250000.0|\n",
      "|Hyundai i20 1.4 Asta|          774500.0|\n",
      "|Maruti Swift Lxi ...|          220000.0|\n",
      "|  Maruti Zen Classic|           58000.0|\n",
      "|      Maruti Zen LXI| 74090.90909090909|\n",
      "|Hyundai Verna 1.6...|452272.63636363635|\n",
      "+--------------------+------------------+\n",
      "only showing top 20 rows\n",
      "\n"
     ]
    }
   ],
   "source": [
    "df.groupby(\"name\").mean()[[\"name\",\"avg(selling_price)\"]].show()"
   ]
  },
  {
   "cell_type": "code",
   "execution_count": 15,
   "id": "79d6b609",
   "metadata": {},
   "outputs": [
    {
     "data": {
      "text/plain": [
       "[Row(name='Maruti Swift Dzire VDI', year=2014, selling_price=450000, km_driven=145500, fuel='Diesel', seller_type='Individual', transmission='Manual', owner='First Owner', mileage='23.4 kmpl', engine='1248 CC', max_power='74 bhp', torque='190Nm@ 2000rpm', seats=5),\n",
       " Row(name='Skoda Rapid 1.5 TDI Ambition', year=2014, selling_price=370000, km_driven=120000, fuel='Diesel', seller_type='Individual', transmission='Manual', owner='Second Owner', mileage='21.14 kmpl', engine='1498 CC', max_power='103.52 bhp', torque='250Nm@ 1500-2500rpm', seats=5),\n",
       " Row(name='Honda City 2017-2020 EXi', year=2006, selling_price=158000, km_driven=140000, fuel='Petrol', seller_type='Individual', transmission='Manual', owner='Third Owner', mileage='17.7 kmpl', engine='1497 CC', max_power='78 bhp', torque='12.7@ 2,700(kgm@ rpm)', seats=5),\n",
       " Row(name='Hyundai i20 Sportz Diesel', year=2010, selling_price=225000, km_driven=127000, fuel='Diesel', seller_type='Individual', transmission='Manual', owner='First Owner', mileage='23.0 kmpl', engine='1396 CC', max_power='90 bhp', torque='22.4 kgm at 1750-2750rpm', seats=5),\n",
       " Row(name='Maruti Swift VXI BSIII', year=2007, selling_price=130000, km_driven=120000, fuel='Petrol', seller_type='Individual', transmission='Manual', owner='First Owner', mileage='16.1 kmpl', engine='1298 CC', max_power='88.2 bhp', torque='11.5@ 4,500(kgm@ rpm)', seats=5),\n",
       " Row(name='Hyundai Xcent 1.2 VTVT E Plus', year=2017, selling_price=440000, km_driven=45000, fuel='Petrol', seller_type='Individual', transmission='Manual', owner='First Owner', mileage='20.14 kmpl', engine='1197 CC', max_power='81.86 bhp', torque='113.75nm@ 4000rpm', seats=5),\n",
       " Row(name='Maruti Wagon R LXI DUO BSIII', year=2007, selling_price=96000, km_driven=175000, fuel='LPG', seller_type='Individual', transmission='Manual', owner='First Owner', mileage='17.3 km/kg', engine='1061 CC', max_power='57.5 bhp', torque='7.8@ 4,500(kgm@ rpm)', seats=5),\n",
       " Row(name='Maruti 800 DX BSII', year=2001, selling_price=45000, km_driven=5000, fuel='Petrol', seller_type='Individual', transmission='Manual', owner='Second Owner', mileage='16.1 kmpl', engine='796 CC', max_power='37 bhp', torque='59Nm@ 2500rpm', seats=4),\n",
       " Row(name='Toyota Etios VXD', year=2011, selling_price=350000, km_driven=90000, fuel='Diesel', seller_type='Individual', transmission='Manual', owner='First Owner', mileage='23.59 kmpl', engine='1364 CC', max_power='67.1 bhp', torque='170Nm@ 1800-2400rpm', seats=5),\n",
       " Row(name='Ford Figo Diesel Celebration Edition', year=2013, selling_price=200000, km_driven=169000, fuel='Diesel', seller_type='Individual', transmission='Manual', owner='First Owner', mileage='20.0 kmpl', engine='1399 CC', max_power='68.1 bhp', torque='160Nm@ 2000rpm', seats=5)]"
      ]
     },
     "execution_count": 15,
     "metadata": {},
     "output_type": "execute_result"
    }
   ],
   "source": [
    "df.take(10)"
   ]
  },
  {
   "cell_type": "code",
   "execution_count": 111,
   "id": "a450644b",
   "metadata": {},
   "outputs": [
    {
     "name": "stdout",
     "output_type": "stream",
     "text": [
      "name has 2058 unique values\n",
      "transmission has 2 unique values\n",
      "fuel has 4 unique values\n",
      "seller_type has 3 unique values\n",
      "owner has 5 unique values\n",
      "mileage has 394 unique values\n",
      "engine has 122 unique values\n",
      "max_power has 323 unique values\n",
      "torque has 442 unique values\n"
     ]
    }
   ],
   "source": [
    "## Check categorical columns\n",
    "categorical_columns = ['name','transmission', 'fuel','seller_type', 'owner', 'mileage', \n",
    "                       'engine', 'max_power', 'torque' ]\n",
    "\n",
    "for i in categorical_columns:  #check unqiue values in categorical columns\n",
    "    print(f\"{i} has {df.select(i).distinct().count()} unique values\")\n",
    "    "
   ]
  },
  {
   "cell_type": "code",
   "execution_count": 121,
   "id": "b6dd9111",
   "metadata": {},
   "outputs": [],
   "source": [
    "#function to create pipeline to convert all categorical columns\n",
    "def cat_pipe_stages(categorical_columns):   \n",
    "    pipeline_stages = []\n",
    "    for categorial_column in categorical_columns:\n",
    "        string_indexer = StringIndexer(inputCol = categorial_column, \n",
    "                                       outputCol = categorial_column + 'Index')\n",
    "        string_indexer.setHandleInvalid(\"skip\").fit(df)\n",
    "        encoder = OneHotEncoder(inputCols = [string_indexer.getOutputCol()], \n",
    "                                outputCols=[categorial_column + \"classVec\"])\n",
    "        pipeline_stages += [string_indexer, encoder]\n",
    "    return pipeline_stages"
   ]
  },
  {
   "cell_type": "code",
   "execution_count": 122,
   "id": "db48ce64",
   "metadata": {},
   "outputs": [],
   "source": [
    "cat_pipe_stages = cat_pipe_stages(categorical_columns)"
   ]
  },
  {
   "cell_type": "code",
   "execution_count": 123,
   "id": "1309fb95",
   "metadata": {},
   "outputs": [
    {
     "name": "stdout",
     "output_type": "stream",
     "text": [
      "[StringIndexer_c2e0c9bb5888, OneHotEncoder_b55d270e81ce, StringIndexer_1efea35b8ce3, OneHotEncoder_308a39d45b32, StringIndexer_aed64a61ea16, OneHotEncoder_6dcf40fbb5fa, StringIndexer_ce32cf7446e8, OneHotEncoder_14470808ac2b, StringIndexer_a075414ed79f, OneHotEncoder_7ee1742155de, StringIndexer_40d2536ef7de, OneHotEncoder_4e4011525bf0, StringIndexer_f5abd5351213, OneHotEncoder_d1e9dc16c54d, StringIndexer_3ad70877450f, OneHotEncoder_9568dfef2ac8, StringIndexer_58d51945a587, OneHotEncoder_a0e544706d04]\n"
     ]
    }
   ],
   "source": [
    "print(cat_pipe_stages)"
   ]
  },
  {
   "cell_type": "code",
   "execution_count": 124,
   "id": "9c6552d2",
   "metadata": {},
   "outputs": [],
   "source": [
    "# execute pipeline to convert categorical columns to index and vector in dataframe \n",
    "def convertcat(df,stages):\n",
    "    pipeline = Pipeline(stages = stages)\n",
    "    pipeline_model = pipeline.fit(df)\n",
    "    df = pipeline_model \\\n",
    "    .transform(df) \\\n",
    "    .select(['*'])\n",
    "    return df"
   ]
  },
  {
   "cell_type": "code",
   "execution_count": 125,
   "id": "691efb43",
   "metadata": {},
   "outputs": [],
   "source": [
    "new_df = convertcat(df,cat_pipe_stages)"
   ]
  },
  {
   "cell_type": "code",
   "execution_count": 126,
   "id": "75608dc3",
   "metadata": {},
   "outputs": [
    {
     "name": "stdout",
     "output_type": "stream",
     "text": [
      "+--------------------+----+-------------+---------+------+-----------+------------+------------+----------+-------+----------+--------------------+-----+---------+-------------------+-----------------+--------------------+---------+-------------+----------------+-------------------+----------+-------------+------------+-----------------+-----------+----------------+--------------+-----------------+-----------+-----------------+\n",
      "|                name|year|selling_price|km_driven|  fuel|seller_type|transmission|       owner|   mileage| engine| max_power|              torque|seats|nameIndex|       nameclassVec|transmissionIndex|transmissionclassVec|fuelIndex| fuelclassVec|seller_typeIndex|seller_typeclassVec|ownerIndex|ownerclassVec|mileageIndex|  mileageclassVec|engineIndex|  engineclassVec|max_powerIndex|max_powerclassVec|torqueIndex|   torqueclassVec|\n",
      "+--------------------+----+-------------+---------+------+-----------+------------+------------+----------+-------+----------+--------------------+-----+---------+-------------------+-----------------+--------------------+---------+-------------+----------------+-------------------+----------+-------------+------------+-----------------+-----------+----------------+--------------+-----------------+-----------+-----------------+\n",
      "|Maruti Swift Dzir...|2014|       450000|   145500|Diesel| Individual|      Manual| First Owner| 23.4 kmpl|1248 CC|    74 bhp|      190Nm@ 2000rpm|    5|      0.0|   (2057,[0],[1.0])|              0.0|       (1,[0],[1.0])|      0.0|(3,[0],[1.0])|             0.0|      (2,[0],[1.0])|       0.0|(4,[0],[1.0])|        30.0| (392,[30],[1.0])|        0.0| (120,[0],[1.0])|           0.0|  (320,[0],[1.0])|        0.0|  (440,[0],[1.0])|\n",
      "|Skoda Rapid 1.5 T...|2014|       370000|   120000|Diesel| Individual|      Manual|Second Owner|21.14 kmpl|1498 CC|103.52 bhp| 250Nm@ 1500-2500rpm|    5|    750.0| (2057,[750],[1.0])|              0.0|       (1,[0],[1.0])|      0.0|(3,[0],[1.0])|             0.0|      (2,[0],[1.0])|       1.0|(4,[1],[1.0])|       191.0|(392,[191],[1.0])|        5.0| (120,[5],[1.0])|         112.0|(320,[112],[1.0])|       22.0| (440,[22],[1.0])|\n",
      "|Honda City 2017-2...|2006|       158000|   140000|Petrol| Individual|      Manual| Third Owner| 17.7 kmpl|1497 CC|    78 bhp|12.7@ 2,700(kgm@ ...|    5|    230.0| (2057,[230],[1.0])|              0.0|       (1,[0],[1.0])|      1.0|(3,[1],[1.0])|             0.0|      (2,[0],[1.0])|       2.0|(4,[2],[1.0])|        76.0| (392,[76],[1.0])|       12.0|(120,[12],[1.0])|          70.0| (320,[70],[1.0])|       67.0| (440,[67],[1.0])|\n",
      "|Hyundai i20 Sport...|2010|       225000|   127000|Diesel| Individual|      Manual| First Owner| 23.0 kmpl|1396 CC|    90 bhp|22.4 kgm at 1750-...|    5|   1545.0|(2057,[1545],[1.0])|              0.0|       (1,[0],[1.0])|      0.0|(3,[0],[1.0])|             0.0|      (2,[0],[1.0])|       0.0|(4,[0],[1.0])|        24.0| (392,[24],[1.0])|        6.0| (120,[6],[1.0])|          31.0| (320,[31],[1.0])|       48.0| (440,[48],[1.0])|\n",
      "|Maruti Swift VXI ...|2007|       130000|   120000|Petrol| Individual|      Manual| First Owner| 16.1 kmpl|1298 CC|  88.2 bhp|11.5@ 4,500(kgm@ ...|    5|   1091.0|(2057,[1091],[1.0])|              0.0|       (1,[0],[1.0])|      1.0|(3,[1],[1.0])|             0.0|      (2,[0],[1.0])|       0.0|(4,[0],[1.0])|         6.0|  (392,[6],[1.0])|       36.0|(120,[36],[1.0])|         146.0|(320,[146],[1.0])|      151.0|(440,[151],[1.0])|\n",
      "|Hyundai Xcent 1.2...|2017|       440000|    45000|Petrol| Individual|      Manual| First Owner|20.14 kmpl|1197 CC| 81.86 bhp|   113.75nm@ 4000rpm|    5|    948.0| (2057,[948],[1.0])|              0.0|       (1,[0],[1.0])|      1.0|(3,[1],[1.0])|             0.0|      (2,[0],[1.0])|       0.0|(4,[0],[1.0])|        60.0| (392,[60],[1.0])|        1.0| (120,[1],[1.0])|          13.0| (320,[13],[1.0])|       23.0| (440,[23],[1.0])|\n",
      "|Maruti Wagon R LX...|2007|        96000|   175000|   LPG| Individual|      Manual| First Owner|17.3 km/kg|1061 CC|  57.5 bhp|7.8@ 4,500(kgm@ rpm)|    5|    295.0| (2057,[295],[1.0])|              0.0|       (1,[0],[1.0])|      3.0|    (3,[],[])|             0.0|      (2,[0],[1.0])|       0.0|(4,[0],[1.0])|       213.0|(392,[213],[1.0])|       26.0|(120,[26],[1.0])|         174.0|(320,[174],[1.0])|      197.0|(440,[197],[1.0])|\n",
      "|  Maruti 800 DX BSII|2001|        45000|     5000|Petrol| Individual|      Manual|Second Owner| 16.1 kmpl| 796 CC|    37 bhp|       59Nm@ 2500rpm|    4|   1657.0|(2057,[1657],[1.0])|              0.0|       (1,[0],[1.0])|      1.0|(3,[1],[1.0])|             0.0|      (2,[0],[1.0])|       1.0|(4,[1],[1.0])|         6.0|  (392,[6],[1.0])|        3.0| (120,[3],[1.0])|          26.0| (320,[26],[1.0])|       11.0| (440,[11],[1.0])|\n",
      "|    Toyota Etios VXD|2011|       350000|    90000|Diesel| Individual|      Manual| First Owner|23.59 kmpl|1364 CC|  67.1 bhp| 170Nm@ 1800-2400rpm|    5|   1208.0|(2057,[1208],[1.0])|              0.0|       (1,[0],[1.0])|      0.0|(3,[0],[1.0])|             0.0|      (2,[0],[1.0])|       0.0|(4,[0],[1.0])|        55.0| (392,[55],[1.0])|       27.0|(120,[27],[1.0])|           5.0|  (320,[5],[1.0])|       46.0| (440,[46],[1.0])|\n",
      "|Ford Figo Diesel ...|2013|       200000|   169000|Diesel| Individual|      Manual| First Owner| 20.0 kmpl|1399 CC|  68.1 bhp|      160Nm@ 2000rpm|    5|    150.0| (2057,[150],[1.0])|              0.0|       (1,[0],[1.0])|      0.0|(3,[0],[1.0])|             0.0|      (2,[0],[1.0])|       0.0|(4,[0],[1.0])|        15.0| (392,[15],[1.0])|       16.0|(120,[16],[1.0])|         130.0|(320,[130],[1.0])|        7.0|  (440,[7],[1.0])|\n",
      "|Renault Duster 11...|2014|       500000|    68000|Diesel| Individual|      Manual|Second Owner|19.01 kmpl|1461 CC|108.45 bhp|      248Nm@ 2250rpm|    5|    130.0| (2057,[130],[1.0])|              0.0|       (1,[0],[1.0])|      0.0|(3,[0],[1.0])|             0.0|      (2,[0],[1.0])|       1.0|(4,[1],[1.0])|        59.0| (392,[59],[1.0])|       10.0|(120,[10],[1.0])|          50.0| (320,[50],[1.0])|       56.0| (440,[56],[1.0])|\n",
      "|       Maruti Zen LX|2005|        92000|   100000|Petrol| Individual|      Manual|Second Owner| 17.3 kmpl| 993 CC|    60 bhp|       78Nm@ 4500rpm|    5|    389.0| (2057,[389],[1.0])|              0.0|       (1,[0],[1.0])|      1.0|(3,[1],[1.0])|             0.0|      (2,[0],[1.0])|       1.0|(4,[1],[1.0])|        47.0| (392,[47],[1.0])|       46.0|(120,[46],[1.0])|          74.0| (320,[74],[1.0])|       70.0| (440,[70],[1.0])|\n",
      "|Maruti Swift Dzir...|2009|       280000|   140000|Diesel| Individual|      Manual|Second Owner| 19.3 kmpl|1248 CC|  73.9 bhp|      190Nm@ 2000rpm|    5|     21.0|  (2057,[21],[1.0])|              0.0|       (1,[0],[1.0])|      0.0|(3,[0],[1.0])|             0.0|      (2,[0],[1.0])|       1.0|(4,[1],[1.0])|        35.0| (392,[35],[1.0])|        0.0| (120,[0],[1.0])|          16.0| (320,[16],[1.0])|        0.0|  (440,[0],[1.0])|\n",
      "|Maruti Wagon R LX...|2009|       180000|    90000|Petrol| Individual|      Manual|Second Owner| 18.9 kmpl|1061 CC|    67 bhp|       84Nm@ 3500rpm|    5|     41.0|  (2057,[41],[1.0])|              0.0|       (1,[0],[1.0])|      1.0|(3,[1],[1.0])|             0.0|      (2,[0],[1.0])|       1.0|(4,[1],[1.0])|         0.0|  (392,[0],[1.0])|       26.0|(120,[26],[1.0])|           3.0|  (320,[3],[1.0])|       45.0| (440,[45],[1.0])|\n",
      "|Mahindra KUV 100 ...|2016|       400000|    40000|Petrol| Individual|      Manual| First Owner|18.15 kmpl|1198 CC|    82 bhp| 115Nm@ 3500-3600rpm|    5|    989.0| (2057,[989],[1.0])|              0.0|       (1,[0],[1.0])|      1.0|(3,[1],[1.0])|             0.0|      (2,[0],[1.0])|       0.0|(4,[0],[1.0])|        95.0| (392,[95],[1.0])|       11.0|(120,[11],[1.0])|          23.0| (320,[23],[1.0])|       81.0| (440,[81],[1.0])|\n",
      "|Maruti Ertiga SHV...|2016|       778000|    70000|Diesel| Individual|      Manual|Second Owner|24.52 kmpl|1248 CC|  88.5 bhp|      200Nm@ 1750rpm|    7|     76.0|  (2057,[76],[1.0])|              0.0|       (1,[0],[1.0])|      0.0|(3,[0],[1.0])|             0.0|      (2,[0],[1.0])|       1.0|(4,[1],[1.0])|        66.0| (392,[66],[1.0])|        0.0| (120,[0],[1.0])|           2.0|  (320,[2],[1.0])|        1.0|  (440,[1],[1.0])|\n",
      "|Hyundai i20 1.4 C...|2012|       500000|    53000|Diesel| Individual|      Manual|Second Owner| 23.0 kmpl|1396 CC|    90 bhp|22.4 kgm at 1750-...|    5|    113.0| (2057,[113],[1.0])|              0.0|       (1,[0],[1.0])|      0.0|(3,[0],[1.0])|             0.0|      (2,[0],[1.0])|       1.0|(4,[1],[1.0])|        24.0| (392,[24],[1.0])|        6.0| (120,[6],[1.0])|          31.0| (320,[31],[1.0])|       48.0| (440,[48],[1.0])|\n",
      "|      Maruti Alto LX|2002|       150000|    80000|Petrol| Individual|      Manual|Second Owner| 19.7 kmpl| 796 CC|  46.3 bhp|       62Nm@ 3000rpm|    5|     11.0|  (2057,[11],[1.0])|              0.0|       (1,[0],[1.0])|      1.0|(3,[1],[1.0])|             0.0|      (2,[0],[1.0])|       1.0|(4,[1],[1.0])|         1.0|  (392,[1],[1.0])|        3.0| (120,[3],[1.0])|           4.0|  (320,[4],[1.0])|        5.0|  (440,[5],[1.0])|\n",
      "|Hyundai i20 2015-...|2016|       680000|   100000|Diesel| Individual|      Manual| First Owner|22.54 kmpl|1396 CC| 88.73 bhp|219.7Nm@ 1500-275...|    5|    237.0| (2057,[237],[1.0])|              0.0|       (1,[0],[1.0])|      0.0|(3,[0],[1.0])|             0.0|      (2,[0],[1.0])|       0.0|(4,[0],[1.0])|        18.0| (392,[18],[1.0])|        6.0| (120,[6],[1.0])|          11.0| (320,[11],[1.0])|       13.0| (440,[13],[1.0])|\n",
      "|Mahindra Verito 1...|2011|       174000|   100000|Diesel| Individual|      Manual|Second Owner| 21.0 kmpl|1461 CC|  64.1 bhp|      160Nm@ 2000rpm|    5|    365.0| (2057,[365],[1.0])|              0.0|       (1,[0],[1.0])|      0.0|(3,[0],[1.0])|             0.0|      (2,[0],[1.0])|       1.0|(4,[1],[1.0])|       147.0|(392,[147],[1.0])|       10.0|(120,[10],[1.0])|         100.0|(320,[100],[1.0])|        7.0|  (440,[7],[1.0])|\n",
      "+--------------------+----+-------------+---------+------+-----------+------------+------------+----------+-------+----------+--------------------+-----+---------+-------------------+-----------------+--------------------+---------+-------------+----------------+-------------------+----------+-------------+------------+-----------------+-----------+----------------+--------------+-----------------+-----------+-----------------+\n",
      "only showing top 20 rows\n",
      "\n"
     ]
    }
   ],
   "source": [
    "new_df.show()"
   ]
  },
  {
   "cell_type": "code",
   "execution_count": 133,
   "id": "43a95f2e",
   "metadata": {},
   "outputs": [],
   "source": [
    "#selecting only the columns we want from above\n",
    "vec_df = new_df.select('selling_price','year','km_driven','mileageclassVec','max_powerclassVec',\n",
    "                      'engineclassVec','transmissionclassVec','fuelclassVec','ownerclassVec', \n",
    "                       'torqueclassVec', 'seats')"
   ]
  },
  {
   "cell_type": "code",
   "execution_count": 134,
   "id": "2083b3b4",
   "metadata": {},
   "outputs": [
    {
     "name": "stdout",
     "output_type": "stream",
     "text": [
      "+-------------+----+---------+-----------------+-----------------+----------------+--------------------+-------------+-------------+-----------------+-----+\n",
      "|selling_price|year|km_driven|  mileageclassVec|max_powerclassVec|  engineclassVec|transmissionclassVec| fuelclassVec|ownerclassVec|   torqueclassVec|seats|\n",
      "+-------------+----+---------+-----------------+-----------------+----------------+--------------------+-------------+-------------+-----------------+-----+\n",
      "|       450000|2014|   145500| (392,[30],[1.0])|  (320,[0],[1.0])| (120,[0],[1.0])|       (1,[0],[1.0])|(3,[0],[1.0])|(4,[0],[1.0])|  (440,[0],[1.0])|    5|\n",
      "|       370000|2014|   120000|(392,[191],[1.0])|(320,[112],[1.0])| (120,[5],[1.0])|       (1,[0],[1.0])|(3,[0],[1.0])|(4,[1],[1.0])| (440,[22],[1.0])|    5|\n",
      "|       158000|2006|   140000| (392,[76],[1.0])| (320,[70],[1.0])|(120,[12],[1.0])|       (1,[0],[1.0])|(3,[1],[1.0])|(4,[2],[1.0])| (440,[67],[1.0])|    5|\n",
      "|       225000|2010|   127000| (392,[24],[1.0])| (320,[31],[1.0])| (120,[6],[1.0])|       (1,[0],[1.0])|(3,[0],[1.0])|(4,[0],[1.0])| (440,[48],[1.0])|    5|\n",
      "|       130000|2007|   120000|  (392,[6],[1.0])|(320,[146],[1.0])|(120,[36],[1.0])|       (1,[0],[1.0])|(3,[1],[1.0])|(4,[0],[1.0])|(440,[151],[1.0])|    5|\n",
      "|       440000|2017|    45000| (392,[60],[1.0])| (320,[13],[1.0])| (120,[1],[1.0])|       (1,[0],[1.0])|(3,[1],[1.0])|(4,[0],[1.0])| (440,[23],[1.0])|    5|\n",
      "|        96000|2007|   175000|(392,[213],[1.0])|(320,[174],[1.0])|(120,[26],[1.0])|       (1,[0],[1.0])|    (3,[],[])|(4,[0],[1.0])|(440,[197],[1.0])|    5|\n",
      "|        45000|2001|     5000|  (392,[6],[1.0])| (320,[26],[1.0])| (120,[3],[1.0])|       (1,[0],[1.0])|(3,[1],[1.0])|(4,[1],[1.0])| (440,[11],[1.0])|    4|\n",
      "|       350000|2011|    90000| (392,[55],[1.0])|  (320,[5],[1.0])|(120,[27],[1.0])|       (1,[0],[1.0])|(3,[0],[1.0])|(4,[0],[1.0])| (440,[46],[1.0])|    5|\n",
      "|       200000|2013|   169000| (392,[15],[1.0])|(320,[130],[1.0])|(120,[16],[1.0])|       (1,[0],[1.0])|(3,[0],[1.0])|(4,[0],[1.0])|  (440,[7],[1.0])|    5|\n",
      "|       500000|2014|    68000| (392,[59],[1.0])| (320,[50],[1.0])|(120,[10],[1.0])|       (1,[0],[1.0])|(3,[0],[1.0])|(4,[1],[1.0])| (440,[56],[1.0])|    5|\n",
      "|        92000|2005|   100000| (392,[47],[1.0])| (320,[74],[1.0])|(120,[46],[1.0])|       (1,[0],[1.0])|(3,[1],[1.0])|(4,[1],[1.0])| (440,[70],[1.0])|    5|\n",
      "|       280000|2009|   140000| (392,[35],[1.0])| (320,[16],[1.0])| (120,[0],[1.0])|       (1,[0],[1.0])|(3,[0],[1.0])|(4,[1],[1.0])|  (440,[0],[1.0])|    5|\n",
      "|       180000|2009|    90000|  (392,[0],[1.0])|  (320,[3],[1.0])|(120,[26],[1.0])|       (1,[0],[1.0])|(3,[1],[1.0])|(4,[1],[1.0])| (440,[45],[1.0])|    5|\n",
      "|       400000|2016|    40000| (392,[95],[1.0])| (320,[23],[1.0])|(120,[11],[1.0])|       (1,[0],[1.0])|(3,[1],[1.0])|(4,[0],[1.0])| (440,[81],[1.0])|    5|\n",
      "|       778000|2016|    70000| (392,[66],[1.0])|  (320,[2],[1.0])| (120,[0],[1.0])|       (1,[0],[1.0])|(3,[0],[1.0])|(4,[1],[1.0])|  (440,[1],[1.0])|    7|\n",
      "|       500000|2012|    53000| (392,[24],[1.0])| (320,[31],[1.0])| (120,[6],[1.0])|       (1,[0],[1.0])|(3,[0],[1.0])|(4,[1],[1.0])| (440,[48],[1.0])|    5|\n",
      "|       150000|2002|    80000|  (392,[1],[1.0])|  (320,[4],[1.0])| (120,[3],[1.0])|       (1,[0],[1.0])|(3,[1],[1.0])|(4,[1],[1.0])|  (440,[5],[1.0])|    5|\n",
      "|       680000|2016|   100000| (392,[18],[1.0])| (320,[11],[1.0])| (120,[6],[1.0])|       (1,[0],[1.0])|(3,[0],[1.0])|(4,[0],[1.0])| (440,[13],[1.0])|    5|\n",
      "|       174000|2011|   100000|(392,[147],[1.0])|(320,[100],[1.0])|(120,[10],[1.0])|       (1,[0],[1.0])|(3,[0],[1.0])|(4,[1],[1.0])|  (440,[7],[1.0])|    5|\n",
      "+-------------+----+---------+-----------------+-----------------+----------------+--------------------+-------------+-------------+-----------------+-----+\n",
      "only showing top 20 rows\n",
      "\n"
     ]
    }
   ],
   "source": [
    "vec_df.show()"
   ]
  },
  {
   "cell_type": "code",
   "execution_count": 135,
   "id": "a4fcd11d",
   "metadata": {},
   "outputs": [],
   "source": [
    "## Convert features that we want into a vector column named as features\n",
    "vector_assembler_inputs = ['year','km_driven','mileageclassVec','max_powerclassVec',\n",
    "                           'engineclassVec', 'torqueclassVec','transmissionclassVec',\n",
    "                           'fuelclassVec','ownerclassVec', 'seats']\n",
    "vector_assembler = VectorAssembler(inputCols = vector_assembler_inputs, \n",
    "                                   outputCol = \"features\")"
   ]
  },
  {
   "cell_type": "code",
   "execution_count": 136,
   "id": "ef474b04",
   "metadata": {},
   "outputs": [],
   "source": [
    "## execute vector assembler pipeline\n",
    "\n",
    "def vecpipe(df,stages):\n",
    "    pipeline = Pipeline(stages = stages)\n",
    "    pipeline_model = pipeline.fit(df)\n",
    "    label_column = 'selling_price'\n",
    "    sdf = pipeline_model \\\n",
    "    .transform(vec_df) \\\n",
    "    .select(['features', label_column])\n",
    "    \n",
    "    return sdf"
   ]
  },
  {
   "cell_type": "code",
   "execution_count": 137,
   "id": "2064d4d1",
   "metadata": {},
   "outputs": [],
   "source": [
    "spark_features_df = vecpipe(new_df,[vector_assembler])"
   ]
  },
  {
   "cell_type": "code",
   "execution_count": 139,
   "id": "e1a1a1a3",
   "metadata": {},
   "outputs": [
    {
     "data": {
      "text/html": [
       "<div>\n",
       "<style scoped>\n",
       "    .dataframe tbody tr th:only-of-type {\n",
       "        vertical-align: middle;\n",
       "    }\n",
       "\n",
       "    .dataframe tbody tr th {\n",
       "        vertical-align: top;\n",
       "    }\n",
       "\n",
       "    .dataframe thead th {\n",
       "        text-align: right;\n",
       "    }\n",
       "</style>\n",
       "<table border=\"1\" class=\"dataframe\">\n",
       "  <thead>\n",
       "    <tr style=\"text-align: right;\">\n",
       "      <th></th>\n",
       "      <th>features</th>\n",
       "      <th>selling_price</th>\n",
       "    </tr>\n",
       "  </thead>\n",
       "  <tbody>\n",
       "    <tr>\n",
       "      <th>0</th>\n",
       "      <td>(2014.0, 145500.0, 0.0, 0.0, 0.0, 0.0, 0.0, 0....</td>\n",
       "      <td>450000</td>\n",
       "    </tr>\n",
       "    <tr>\n",
       "      <th>1</th>\n",
       "      <td>(2014.0, 120000.0, 0.0, 0.0, 0.0, 0.0, 0.0, 0....</td>\n",
       "      <td>370000</td>\n",
       "    </tr>\n",
       "    <tr>\n",
       "      <th>2</th>\n",
       "      <td>(2006.0, 140000.0, 0.0, 0.0, 0.0, 0.0, 0.0, 0....</td>\n",
       "      <td>158000</td>\n",
       "    </tr>\n",
       "    <tr>\n",
       "      <th>3</th>\n",
       "      <td>(2010.0, 127000.0, 0.0, 0.0, 0.0, 0.0, 0.0, 0....</td>\n",
       "      <td>225000</td>\n",
       "    </tr>\n",
       "    <tr>\n",
       "      <th>4</th>\n",
       "      <td>(2007.0, 120000.0, 0.0, 0.0, 0.0, 0.0, 0.0, 0....</td>\n",
       "      <td>130000</td>\n",
       "    </tr>\n",
       "    <tr>\n",
       "      <th>5</th>\n",
       "      <td>(2017.0, 45000.0, 0.0, 0.0, 0.0, 0.0, 0.0, 0.0...</td>\n",
       "      <td>440000</td>\n",
       "    </tr>\n",
       "    <tr>\n",
       "      <th>6</th>\n",
       "      <td>(2007.0, 175000.0, 0.0, 0.0, 0.0, 0.0, 0.0, 0....</td>\n",
       "      <td>96000</td>\n",
       "    </tr>\n",
       "    <tr>\n",
       "      <th>7</th>\n",
       "      <td>(2001.0, 5000.0, 0.0, 0.0, 0.0, 0.0, 0.0, 0.0,...</td>\n",
       "      <td>45000</td>\n",
       "    </tr>\n",
       "    <tr>\n",
       "      <th>8</th>\n",
       "      <td>(2011.0, 90000.0, 0.0, 0.0, 0.0, 0.0, 0.0, 0.0...</td>\n",
       "      <td>350000</td>\n",
       "    </tr>\n",
       "    <tr>\n",
       "      <th>9</th>\n",
       "      <td>(2013.0, 169000.0, 0.0, 0.0, 0.0, 0.0, 0.0, 0....</td>\n",
       "      <td>200000</td>\n",
       "    </tr>\n",
       "    <tr>\n",
       "      <th>10</th>\n",
       "      <td>(2014.0, 68000.0, 0.0, 0.0, 0.0, 0.0, 0.0, 0.0...</td>\n",
       "      <td>500000</td>\n",
       "    </tr>\n",
       "    <tr>\n",
       "      <th>11</th>\n",
       "      <td>(2005.0, 100000.0, 0.0, 0.0, 0.0, 0.0, 0.0, 0....</td>\n",
       "      <td>92000</td>\n",
       "    </tr>\n",
       "    <tr>\n",
       "      <th>12</th>\n",
       "      <td>(2009.0, 140000.0, 0.0, 0.0, 0.0, 0.0, 0.0, 0....</td>\n",
       "      <td>280000</td>\n",
       "    </tr>\n",
       "    <tr>\n",
       "      <th>13</th>\n",
       "      <td>(2009.0, 90000.0, 1.0, 0.0, 0.0, 0.0, 0.0, 0.0...</td>\n",
       "      <td>180000</td>\n",
       "    </tr>\n",
       "    <tr>\n",
       "      <th>14</th>\n",
       "      <td>(2016.0, 40000.0, 0.0, 0.0, 0.0, 0.0, 0.0, 0.0...</td>\n",
       "      <td>400000</td>\n",
       "    </tr>\n",
       "    <tr>\n",
       "      <th>15</th>\n",
       "      <td>(2016.0, 70000.0, 0.0, 0.0, 0.0, 0.0, 0.0, 0.0...</td>\n",
       "      <td>778000</td>\n",
       "    </tr>\n",
       "    <tr>\n",
       "      <th>16</th>\n",
       "      <td>(2012.0, 53000.0, 0.0, 0.0, 0.0, 0.0, 0.0, 0.0...</td>\n",
       "      <td>500000</td>\n",
       "    </tr>\n",
       "    <tr>\n",
       "      <th>17</th>\n",
       "      <td>(2002.0, 80000.0, 0.0, 1.0, 0.0, 0.0, 0.0, 0.0...</td>\n",
       "      <td>150000</td>\n",
       "    </tr>\n",
       "    <tr>\n",
       "      <th>18</th>\n",
       "      <td>(2016.0, 100000.0, 0.0, 0.0, 0.0, 0.0, 0.0, 0....</td>\n",
       "      <td>680000</td>\n",
       "    </tr>\n",
       "    <tr>\n",
       "      <th>19</th>\n",
       "      <td>(2011.0, 100000.0, 0.0, 0.0, 0.0, 0.0, 0.0, 0....</td>\n",
       "      <td>174000</td>\n",
       "    </tr>\n",
       "  </tbody>\n",
       "</table>\n",
       "</div>"
      ],
      "text/plain": [
       "                                             features  selling_price\n",
       "0   (2014.0, 145500.0, 0.0, 0.0, 0.0, 0.0, 0.0, 0....         450000\n",
       "1   (2014.0, 120000.0, 0.0, 0.0, 0.0, 0.0, 0.0, 0....         370000\n",
       "2   (2006.0, 140000.0, 0.0, 0.0, 0.0, 0.0, 0.0, 0....         158000\n",
       "3   (2010.0, 127000.0, 0.0, 0.0, 0.0, 0.0, 0.0, 0....         225000\n",
       "4   (2007.0, 120000.0, 0.0, 0.0, 0.0, 0.0, 0.0, 0....         130000\n",
       "5   (2017.0, 45000.0, 0.0, 0.0, 0.0, 0.0, 0.0, 0.0...         440000\n",
       "6   (2007.0, 175000.0, 0.0, 0.0, 0.0, 0.0, 0.0, 0....          96000\n",
       "7   (2001.0, 5000.0, 0.0, 0.0, 0.0, 0.0, 0.0, 0.0,...          45000\n",
       "8   (2011.0, 90000.0, 0.0, 0.0, 0.0, 0.0, 0.0, 0.0...         350000\n",
       "9   (2013.0, 169000.0, 0.0, 0.0, 0.0, 0.0, 0.0, 0....         200000\n",
       "10  (2014.0, 68000.0, 0.0, 0.0, 0.0, 0.0, 0.0, 0.0...         500000\n",
       "11  (2005.0, 100000.0, 0.0, 0.0, 0.0, 0.0, 0.0, 0....          92000\n",
       "12  (2009.0, 140000.0, 0.0, 0.0, 0.0, 0.0, 0.0, 0....         280000\n",
       "13  (2009.0, 90000.0, 1.0, 0.0, 0.0, 0.0, 0.0, 0.0...         180000\n",
       "14  (2016.0, 40000.0, 0.0, 0.0, 0.0, 0.0, 0.0, 0.0...         400000\n",
       "15  (2016.0, 70000.0, 0.0, 0.0, 0.0, 0.0, 0.0, 0.0...         778000\n",
       "16  (2012.0, 53000.0, 0.0, 0.0, 0.0, 0.0, 0.0, 0.0...         500000\n",
       "17  (2002.0, 80000.0, 0.0, 1.0, 0.0, 0.0, 0.0, 0.0...         150000\n",
       "18  (2016.0, 100000.0, 0.0, 0.0, 0.0, 0.0, 0.0, 0....         680000\n",
       "19  (2011.0, 100000.0, 0.0, 0.0, 0.0, 0.0, 0.0, 0....         174000"
      ]
     },
     "execution_count": 139,
     "metadata": {},
     "output_type": "execute_result"
    }
   ],
   "source": [
    "spark_features_df.toPandas().head(20)  #data ready for training"
   ]
  },
  {
   "cell_type": "code",
   "execution_count": 140,
   "id": "eee2927c",
   "metadata": {},
   "outputs": [
    {
     "data": {
      "text/plain": [
       "0       (2014.0, 145500.0, 0.0, 0.0, 0.0, 0.0, 0.0, 0....\n",
       "1       (2014.0, 120000.0, 0.0, 0.0, 0.0, 0.0, 0.0, 0....\n",
       "2       (2006.0, 140000.0, 0.0, 0.0, 0.0, 0.0, 0.0, 0....\n",
       "3       (2010.0, 127000.0, 0.0, 0.0, 0.0, 0.0, 0.0, 0....\n",
       "4       (2007.0, 120000.0, 0.0, 0.0, 0.0, 0.0, 0.0, 0....\n",
       "                              ...                        \n",
       "7901    (2013.0, 110000.0, 0.0, 0.0, 0.0, 0.0, 0.0, 0....\n",
       "7902    (2007.0, 119000.0, 0.0, 0.0, 0.0, 0.0, 0.0, 0....\n",
       "7903    (2009.0, 120000.0, 0.0, 0.0, 0.0, 0.0, 0.0, 0....\n",
       "7904    (2013.0, 25000.0, 0.0, 0.0, 0.0, 0.0, 0.0, 0.0...\n",
       "7905    (2013.0, 25000.0, 0.0, 0.0, 0.0, 0.0, 0.0, 0.0...\n",
       "Name: features, Length: 7906, dtype: object"
      ]
     },
     "execution_count": 140,
     "metadata": {},
     "output_type": "execute_result"
    }
   ],
   "source": [
    "spark_features_df.toPandas().features"
   ]
  },
  {
   "cell_type": "code",
   "execution_count": 141,
   "id": "b7c59913",
   "metadata": {},
   "outputs": [
    {
     "data": {
      "text/plain": [
       "(5556, 2350)"
      ]
     },
     "execution_count": 141,
     "metadata": {},
     "output_type": "execute_result"
    }
   ],
   "source": [
    "# Split the Raw Features and Labelled DataFrame into a Training DataFrame and a Test DataFrame\n",
    "train_df, test_df = spark_features_df.randomSplit([0.7, 0.3], seed=4020)\n",
    "train_df.count(), test_df.count()"
   ]
  },
  {
   "cell_type": "code",
   "execution_count": 142,
   "id": "37bffc90",
   "metadata": {},
   "outputs": [],
   "source": [
    "//showing correlation between the numerical features\n",
    "import seaborn as sns\n",
    "reg_num_pandas = vec_df.toPandas()"
   ]
  },
  {
   "cell_type": "code",
   "execution_count": 143,
   "id": "40af0960",
   "metadata": {},
   "outputs": [
    {
     "data": {
      "text/html": [
       "<div>\n",
       "<style scoped>\n",
       "    .dataframe tbody tr th:only-of-type {\n",
       "        vertical-align: middle;\n",
       "    }\n",
       "\n",
       "    .dataframe tbody tr th {\n",
       "        vertical-align: top;\n",
       "    }\n",
       "\n",
       "    .dataframe thead th {\n",
       "        text-align: right;\n",
       "    }\n",
       "</style>\n",
       "<table border=\"1\" class=\"dataframe\">\n",
       "  <thead>\n",
       "    <tr style=\"text-align: right;\">\n",
       "      <th></th>\n",
       "      <th>selling_price</th>\n",
       "      <th>year</th>\n",
       "      <th>km_driven</th>\n",
       "      <th>seats</th>\n",
       "    </tr>\n",
       "  </thead>\n",
       "  <tbody>\n",
       "    <tr>\n",
       "      <th>selling_price</th>\n",
       "      <td>1.000000</td>\n",
       "      <td>0.412302</td>\n",
       "      <td>-0.222158</td>\n",
       "      <td>0.041617</td>\n",
       "    </tr>\n",
       "    <tr>\n",
       "      <th>year</th>\n",
       "      <td>0.412302</td>\n",
       "      <td>1.000000</td>\n",
       "      <td>-0.428548</td>\n",
       "      <td>-0.007923</td>\n",
       "    </tr>\n",
       "    <tr>\n",
       "      <th>km_driven</th>\n",
       "      <td>-0.222158</td>\n",
       "      <td>-0.428548</td>\n",
       "      <td>1.000000</td>\n",
       "      <td>0.227259</td>\n",
       "    </tr>\n",
       "    <tr>\n",
       "      <th>seats</th>\n",
       "      <td>0.041617</td>\n",
       "      <td>-0.007923</td>\n",
       "      <td>0.227259</td>\n",
       "      <td>1.000000</td>\n",
       "    </tr>\n",
       "  </tbody>\n",
       "</table>\n",
       "</div>"
      ],
      "text/plain": [
       "               selling_price      year  km_driven     seats\n",
       "selling_price       1.000000  0.412302  -0.222158  0.041617\n",
       "year                0.412302  1.000000  -0.428548 -0.007923\n",
       "km_driven          -0.222158 -0.428548   1.000000  0.227259\n",
       "seats               0.041617 -0.007923   0.227259  1.000000"
      ]
     },
     "execution_count": 143,
     "metadata": {},
     "output_type": "execute_result"
    }
   ],
   "source": [
    "reg_num_pandas.corr()"
   ]
  },
  {
   "cell_type": "code",
   "execution_count": 145,
   "id": "c3624032",
   "metadata": {},
   "outputs": [],
   "source": [
    "import matplotlib.pyplot as plt"
   ]
  },
  {
   "cell_type": "code",
   "execution_count": 146,
   "id": "6adcd9a7",
   "metadata": {},
   "outputs": [
    {
     "data": {
      "text/plain": [
       "<AxesSubplot:>"
      ]
     },
     "execution_count": 146,
     "metadata": {},
     "output_type": "execute_result"
    },
    {
     "data": {
      "image/png": "[encoded data removed]",
      "text/plain": [
       "<Figure size 1000x800 with 2 Axes>"
      ]
     },
     "metadata": {},
     "output_type": "display_data"
    }
   ],
   "source": [
    "plt.figure(figsize=(10,8)) \n",
    "\n",
    "cmap = sns.diverging_palette(220, 10, as_cmap=True)\n",
    "sns.heatmap(reg_num_pandas.corr(), cmap=cmap)"
   ]
  },
  {
   "cell_type": "code",
   "execution_count": 147,
   "id": "c682cddc",
   "metadata": {},
   "outputs": [],
   "source": [
    "# Train a Multi-variate Linear Regression Model on the Training DataFrame\n",
    "multi_reg = LinearRegression(featuresCol = 'features', labelCol = 'selling_price',\n",
    "                                       regParam=0.3, elasticNetParam=0.3)\n",
    "multi_reg_model = multi_reg.fit(train_df)"
   ]
  },
  {
   "cell_type": "code",
   "execution_count": 148,
   "id": "0e10c335",
   "metadata": {},
   "outputs": [
    {
     "name": "stdout",
     "output_type": "stream",
     "text": [
      "Model Coefficients: [32701.762666580733,-0.21717589067164073,18075.190761198515,42987.35402851107,723.8646191903247,-52362.0797411672,-121068.87671884113,57471.40420340245,-11034.179899903049,24624.344180447588,114513.60377506644,-3888.8520678407904,670176.6931045002,99473.14393184375,-58628.021328592076,84468.18302457109,86194.86176238209,-62906.593710533874,-213605.11516473498,-33906.86532619236,205541.85598937568,-43377.13554783862,-33335.46450222852,-128764.07387580597,-101330.17586104949,171030.64610573152,-34721.029028461955,-94373.34648741016,-527298.491366417,-60474.738572628805,-56770.7725315217,-104951.13621919413,101795.98989631528,11041.161228455561,-200640.1898936605,89177.34152813331,-187064.09105484,53660.85601520079,107372.01619922626,-89566.6662943204,17732.65632978553,76187.83788454431,-164864.8762799824,46096.68592432542,-318099.2632024314,178581.0669987866,10546.539224623953,-149417.7464068727,-8546.734897467215,-57771.95643222545,26750.96982154021,30781.517132950623,-71784.77001023071,-67402.96901417625,-155672.99206047796,-50059.0629564521,-35691.383823577045,-42841.50555611878,159288.15610575967,6361.8651394431,-66529.51793944529,-57415.58927724529,16075.676239052269,-163795.12662266238,-115359.14778690011,-98282.53008835323,123992.96879806122,478568.6361185524,-37237.49162653194,-360354.9234362418,-33030.557584137205,-5565.883195098603,-116961.81349040549,-152999.59019327158,28470.232686375286,69707.76243977563,-229781.48385434886,165524.96109998785,-14267.54514367954,-182384.41693301787,1084219.7522641425,406821.86924310686,-186569.94118865268,-59934.4367142656,-376430.8602706137,-75518.39696141324,178513.37717923714,-65143.22993478206,95360.16326620571,29933.113152067235,455602.1113134316,3585.6588732804494,-54364.02333137238,114209.8337243418,-67041.8134173607,48726.788066754874,44550.25962713267,-33179.23542583982,-700093.7583148929,-200696.18111713196,16152.231747179178,-68120.59013735001,-84089.96564692627,-76988.79441551676,-162190.6855963309,413133.40363757487,308010.6646935335,38701.99529963564,8484.126482913021,-59389.893150746306,-582239.991491883,-100325.9818848766,-58765.75270924076,27449.71196032146,161168.02484788452,-4095.975763674905,43785.045852248695,-57822.58598360528,48808.295275324934,310025.9215156849,-157338.86129620738,-118776.17467442955,-67096.02738723635,344122.8745723506,-195945.01217491386,173117.4007403494,-40317.00898888083,-171622.12912373172,74083.18058089433,-54313.622655394705,-97464.9512144246,-126103.90872010551,-133052.69446939204,-128995.56803217209,41660.12423703324,-4681.849673574947,92599.80455167356,-537467.3432026561,-30272.45539504703,-58257.44980569588,-169112.28954781624,-114451.77612456994,175084.08151723671,-102608.820614516,138667.75594264665,443190.18257140636,-81514.93387523932,170053.49942961297,66076.48878974363,-788742.7574186842,-119409.45593680243,-134861.39431143677,-147068.20411899156,-219432.63421319122,-120335.2725066772,-323631.41066030913,-30667.01625092155,-747431.3714723589,-42273.058223603926,-13170.652885542864,-51523.589984675345,1370.5352884406918,-115861.5029243935,20193.811569579517,23328.58295315973,-77073.49967077182,-315830.4061662786,11186.80209974099,-18568.077482638793,226266.21472120515,-105477.45238092303,61070.48483199566,76154.02554558858,-4288.965323989725,-174730.74328344944,-512359.90804739954,17901.57414840233,-98397.90634789932,-562426.7499493449,-110927.05425440348,-107418.27713797848,-145778.02037439655,50524.96228635007,-61053.540357942475,-51468.509726268465,1716451.4630950254,-319400.4660457005,25133.44351044391,64177.23832858574,45557.98702714945,-208880.53857437166,4292.433078205991,-729053.496029014,179257.53409039663,-49563.32917750674,100526.52633734945,518165.45561544766,-603616.3636402126,52379.70084383684,-60872.73162082588,2611764.5480296924,-380078.59728471807,-678693.8659661044,-36883.667903153655,137690.12999680534,-1821781.2724419895,-221816.0999650788,-260684.5178132697,-15836.502038258648,309463.8182404035,-216269.71492202196,-35316.08120234435,-21475.350820535496,113370.08804775833,1369663.3646198486,-69355.51192199269,-616391.8879777167,349441.7627632071,-2259.0644416401888,-560999.4083533811,212463.81842851944,108556.54792911516,-136178.45028508065,-30993.873521769827,-102136.39454075451,837897.2266570705,454402.15737185784,-198023.26822444348,-288880.33382388164,16984.994100818058,720630.2227273216,-152601.82252695048,-135498.77855432348,-76013.77607896803,517926.8710320019,-6193.991471641869,-235652.88492099047,518382.3818383414,257165.6416398316,-407994.41068543406,58919.1667089188,-94326.28376163461,18389.44611416417,-244759.01282960075,-2034471.5614641695,-30813.97630791761,430333.0430859993,-57807.725497366104,-13812.845867745813,1866.1335122519754,169373.51666583825,254902.9844299956,-1483.8372777044892,-54129.807203304204,-180121.93296570936,29926.290477787785,-51006.05995033968,1084582.7404061297,349136.2664358324,-79239.42297866603,-353359.1468913096,744047.0970161915,-107569.04022206849,-58578.29467106363,204401.9892952215,49825.53811996488,-175245.0980149537,42541.357524509105,-55581.79864072708,-383111.95742273505,-30906.005588940683,365816.2047034163,-82246.05492832008,37094.15690533774,1114358.6241605582,-49564.654218866985,286515.8977455846,247678.63600701248,-7601.781861256241,-770126.3488420121,223223.03295728832,29328.884769548935,-148031.13792084818,-110241.3230078837,13070.487460275472,23186.599147859444,-88429.16528199238,40921.77102224955,0.0,-86525.33893629533,-215793.1509069067,-9096.403114307212,157529.8568718829,54309.769830440935,-42785.78275521328,-12596.577943127042,-177022.42257774115,-158360.86364951837,-137847.62766364953,26369.632749559078,-46703.65747398967,214245.4462219893,46888.701405983156,195723.9036027862,366482.92351626186,61628.61511586606,-154600.94876553433,-719619.1250936156,-62359.63823362785,244605.37190362814,-215680.47821221425,-769481.5147108831,567289.2074223333,-38704.72742099386,-118909.05906709962,882483.0898896569,-38208.38193335089,814056.4962905246,-9811.870874865735,-100462.84497803,394370.3873913109,-1318828.3326098796,-78620.12606213379,0.0,-262392.94329449954,-93370.64061997607,-173324.49202982496,-101300.23950313967,-175547.42726930167,-49470.17344041142,24264.77645807503,-88540.05393047744,-1343.8213568467795,447965.30292754713,131017.95006248797,176494.56588065834,-280907.595002248,-268936.23473616934,-23204.99993124488,0.0,106190.70351488107,-141473.63023841876,-47340.935841353035,0.0,1812730.7489630105,-67779.41626941679,-83892.06698501839,265365.8284279336,-288464.07695469254,0.0,-110936.0072230119,0.0,49115.913217031986,0.0,43110.08667291903,1771104.5476481353,0.0,0.0,225597.0690283351,33451.05900998648,0.0,0.0,-32660.465841281286,-50446.96239125816,-388796.03126460366,0.0,100264.61880915979,186187.95137321146,-41129.34290661133,-133681.98243850007,25156.84208505097,2163.237285831484,-613695.6303879516,294632.1927192479,-249641.62939850555,-144408.49759583705,-19115.048224722956,58397.9921976746,-82812.61853379087,0.0,-188604.32930207945,-49729.49001570621,-16851.896994289626,-106350.7166895266,0.0,162777.45982830538,-1231524.6107416314,-45619.9484566316,0.0,-135822.72673645697,-97229.36727021226,-123626.79074308646,0.0,-272682.5238575904,-99877.96564626956,-37626.7571370111,-6808.557913846026,-150023.4528497581,-103732.77236780252,-114979.80076589678,-8686.841779743208,-126319.61240712255,-76637.85124873093,-99267.14249493809,-116764.21351493086,-74297.96939189118,28415.646165787042,-59934.43272802144,-77239.98991355473,-35979.42616631447,-109608.99783719111,25636.736734819133,-103213.09307299601,-37413.51807226376,-49032.95147304539,1623430.8883752117,-145401.18515738854,-100823.67903749149,-67089.16662629024,-15866.928763883354,-12622.927973580528,72271.42639022079,135584.51912851352,-73486.06313683647,-25388.587093378115,-19404.57796941431,-109847.40943459494,-3980.122823459754,-36523.927406284165,-52784.17349622465,49234.08053383269,-21784.470702682058,177909.93165295437,587531.5372794798,-89566.66629432111,-94359.34037650785,-74870.09539906998,-138791.60059485454,23832.65142349384,209304.39202949236,34865.191423279044,-2309.1505507475235,-135115.25170108248,-27216.35034960145,-28058.372691409124,-87715.5402827943,-12182.614552471374,-52396.52690993469,39109.52026481536,-127578.17191906675,-139651.79103072974,-58918.33472324377,119280.04783696463,-22935.35218843868,-147942.68725405395,1084219.7522641425,-58878.48233629223,406821.86924310686,477978.7775763003,-75518.39696141324,-79604.40615107861,-89145.99554559939,74576.50159884761,-86118.7636992178,-68851.66692881286,178939.95154898457,24485.070109427586,-128919.53880587617,-16781.47107701233,399756.00331849686,-87946.28058569986,-108630.58826762384,46225.41542654316,-84927.26312448547,-38453.51855305539,-102400.45107674504,-6878.381432064004,-905302.1286123436,-371049.930190574,-17240.031447909543,-111469.70379514818,824583.1739652104,330660.52896130964,-167742.59560322124,-68190.19899572422,161168.02484788452,-67564.69975839418,-75875.66310503046,161810.92224493675,-67438.22043561192,50620.92147741854,-20910.749666868407,-109491.08461964442,-58719.71159814088,463818.62935833534,-332445.0938269792,-119981.36453612578,-4681.849673574947,-28421.025979962204,-60351.38291879539,57918.123328096066,134397.9683375893,269476.2614148505,216817.81078504262,323447.7191450182,-153890.49916947828,-95852.75488641972,200853.63811546558,339167.45363079984,760262.1828835051,-120335.2725066772,-104477.96009054162,108649.08079997216,-171105.81278785426,-63198.681600279684,-98612.57937545287,201902.43418655565,-788583.4730155787,-49890.79833721487,-146560.56301006288,-135333.96163454704,-77073.49967077182,-174916.486912057,-156407.05794366472,-61228.78053118744,-97812.56294692591,-55327.647116938446,-106970.7261435358,103608.52378502167,-73921.95346154437,-67628.48969219868,-39523.71885567217,-67434.6539354959,-66188.53524603737,-46668.68721554398,-98397.90634789932,-47287.330821858224,518382.3818384212,301703.0313345368,-50734.823426989424,-28341.27018640358,50524.96228635007,-22061.482220049493,-129167.27787768516,-13948.896218582731,-341300.692788667,-106163.36542712004,31956.166548204936,-209792.5620856812,-337472.91870001116,88045.73187551012,-626967.5377050114,-174730.74328344944,850288.4480250814,1118349.7567432611,927112.4783320602,35103.430044719535,-104990.08141992627,138635.910223785,-12544.5939002347,48558.71738581069,-28847.569088466247,48360.020736405095,-60989.71000393126,1369663.3646199123,837897.2266569912,-147363.4700112938,-102136.39454075451,-69355.51192199269,-179896.2903874227,-49972.311841979135,260028.2639037401,-137596.4799340237,-54470.150218708426,-191320.46464482983,-12827.15426631792,-1502113.907551344,-159336.98161750167,161274.21882703184,277012.5764265678,121470.03307665963,454402.15737185784,-57807.725497366104,-183660.18393975138,469657.3073338594,-54129.807203304204,72899.39050202526,-85027.88932912698,1110826.7097900314,1866.1335122519754,-88206.63805104735,71943.28086990041,634908.2370899537,461568.40922874905,857535.8156916994,182115.93426613568,21610.63539443271,-17788.4675647452,-858176.7786513071,-60257.79242515878,56645.930294950085,-109553.50398785018,29328.884769548935,-102661.3454139694,-153346.62503455515,60238.737455933384,243250.39449508983,138995.02655056893,-7601.781861256241,-72015.51678185057,589908.9119487401,2058774.67477836,519371.7974563479,-137847.62766364953,-50125.1449224079,-797139.2686672873,197766.6471808145,-88429.16528199238,-104095.04755586514,-61898.27849768818,-64770.88119817684,-67838.21066081367,-59334.95069242191,-221282.53047762613,97413.72020487564,214245.4462219893,247743.49372438877,203582.56952639588,-5073.18872296647,-212865.5675418641,1031916.8194661732,-98109.10800952847,-46703.65747398967,366482.92351626186,755918.1934388698,0.0,172423.06555056843,698730.2767948769,244605.3719035431,262773.45824312605,723610.191022913,567289.2074222006,0.0,541196.2709894218,-208428.59579564305,-82246.05492832008,-76552.77366568905,-138810.35370820368,-101300.23950313967,-101877.76974919444,-78620.12606213379,400256.1069615363,-117170.33515965898,533184.8301950368,53054.203884934475,-135033.51828520957,-66330.70757753302,-177150.33890559198,140143.99983012915,-85413.18964721577,0.0,-249641.62939850555,0.0,49115.913217031986,145525.64657869373,-110936.0072230119,59480.96185230132,0.0,0.0,186187.95137321146,542640.3870106855,0.0,0.0,-64034.73092184904,0.0,47302.44937247015,-207417.94093543445,-23204.99993124488,-246632.68992278716,104629.08891558863,295990.5548721189,316228.56906599645,-67027.87931149041,87364.08337516167,1365246.1614446293,358832.81425411906,100264.61880915979,-1343.8213568467795,-153500.74256975277,0.0,868275.4783532132,131017.95006248797,0.0,593.6926394139089,-67779.41626941679,0.0,1166777.2038975446,1812730.7489630105,263462.8956392272,1984859.1559122559,4288588.187854109,-135822.72673645697,-412903.2610850968,-123626.79074308646,0.0,209258.0398862741,-161383.65122425923,-59952.36205211374,60041.039536319746,-45619.9484566316,-104806.62402775181,761087.1051212867,21937.194788741628,62371.5833574187,-49726.55904381391,-47387.72299258619,-64560.66668261724,-92829.79007868448,10642.847525737969,-2637.6948254064223,-101621.53742875556,-4538.698992186234,74919.84765991324,-47897.850202565656,17922.054303784666,-71078.16995735734,16963.528197059568,36860.61306412221,-45299.99008088082,-67210.72758934683,-241848.01340096185,-103213.09307299601,-155493.82538839648,1227798.0231576848,51611.332146709356,-38948.002817006476,-107397.1684516189,-112485.999718262,652006.6068898411,-74870.0953990338,-63346.35255445235,-35729.09086735174,-85566.28259596642,-317676.6548909491,44011.472689654,-121098.2022680662,-114939.62684656342,-79962.457568437,14646.468914061803,-176746.34955741835,-93296.06001911838,-116961.81349040549,667573.9455754013,40171.12981812235,1084219.7522641425,-81455.91556128203,234277.37971849288,482324.38332133077,405187.54907796084,-93331.89810866315,-16781.47107701233,16152.231747119418,-123665.37898512535,318642.89097591565,448703.4500434094,-95503.00936466758,-14999.135685130397,357258.01950198936,47871.55286326974,-88099.24266196322,-30371.85383889643,116100.96396073577,119152.09796930547,-5131.5596632605175,-325238.6811051979,-18603.643056661473,-35973.56770584112,820007.5973328237,143597.41305988963,406764.8157924792,-16341.097445543019,-9539.425033732497,-142645.45398672918,1023763.7445611828,-329950.04710952326,139766.3242405831,-45066.53653056751,-132560.31572560733,-37164.01413959919,301703.0313345368,-222211.80374752736,250161.4925853149,79378.23914610372,-60989.71000393126,837897.2266569731,-102136.39454075451,121470.03307665963,10312.135711630739,454402.15737185784,67084.83071556932,410028.54893504886,79851.89683416237,242825.64582203864,6768.64865513507,-102046.85501440552,-92569.32627278693,223223.03295726134,-37771.94997800287,4288.8151931715765,60238.737455933384,-28187.898940253766,365816.2047034163,443718.5576539568,-50125.1449224079,-6332.114379104383,-45323.155295203855,-59334.95069242191,-11153.111147142225,366482.92351626186,57801.07523062211,0.0,53054.203884934475,44879.837229698394,-59242.143404068316,-87876.49188420904,-77957.01011012167,0.0,868275.4783531397,0.0,104819.99918813792,-1343.8213568467795,60041.039536319746,131017.95006248975,59480.96185230132,-149599.53361657026,137360.46321096626,-61446.66590683944,-80547.37363650974,-75431.29499731158,-102755.22327604957,-76637.85124873093,-39922.213391217396,398475.3596455295,-103213.09307299601,-28531.66792048434,-68693.94983750895,-78979.14443249149,-154539.40633360136,-15866.928763883354,1019836.5559918558,-23823.54995764079,-104786.75994602448,-55238.76007739102,-57324.417382681204,48887.0745528544,-63874.330889888995,-218249.283950314,-119748.97780001981,50604.031477040284,92618.70912931023,-322672.29459023813,177909.93165295437,624388.6096001094,198982.09884667926,-16897.274054684247,-56636.63930915614,-19390.927428331914,-255401.09576193034,-204150.00493233558,-76221.77771959885,137317.0850895165,-82417.247824611,-23265.126317124403,-70242.27643564079,45759.41581752242,57860.63733192109,-101613.00883591459,32706.500676678123,-129646.54800732953,-54337.01805762097,-42841.50555611878,16000.587557953246,-115991.36599106857,-171974.79978922574,-149762.39783044974,-80158.32890973118,-60385.74358110048,-364385.16591337626,-26599.360265749834,-22935.35218843868,-102683.03830342658,-115699.74991826493,1084219.752264241,406821.86924310686,394714.1708470657,402233.3233495442,-13266.74611415675,395901.92100440426,515936.93517945777,-122826.17511290814,527746.6871100978,-78462.71627130965,-28021.935530264785,-339630.73475200083,-16781.47107701233,-168830.82450318322,-68120.5901376797,-108630.58826762384,290831.32079897186,-121917.4173913253,-452398.8760179277,356148.1334764856,43175.72486268973,-89696.87176858183,-119452.27159839634,-68315.51977586158,5910.399366646695,-7015.455130759717,-107097.422555513,-100325.9818848766,110834.36738564087,-17240.031447909543,-358417.4330563776,-67181.78813241802,215217.9784633808,-131198.38521483436,-167742.59560322124,2957.755532419093,-58507.12389288143,-201097.07671731603,-82343.9499330161,-4095.975763674905,-115549.6818393948,-368783.46634448104,377919.1541862867,161168.02484788452,142674.32562205245,-99839.37781425728,-109491.08461966748,61996.28604637788,-732.4028619157419,-4077.8088699556192,-144042.60405391248,-60870.72472805303,-4681.849673574947,-106906.5919254485,-98896.22410168806,339167.45363079984,-102608.820614516,-126573.75267945294,-94477.21743110988,23243.46732190656,200853.6381154921,-118748.230646384,-239086.2845813783,-58259.85447736593,-148580.92787387263,108649.08080005411,-163189.901112752,-23013.03675682427,-61785.33688232205,-71157.12134962024,-135333.96163454704,-49890.79833721487,-55973.868208312204,-516957.3135060358,20193.811569579517,-195355.32267529023,-154992.88488047427,-285814.96900032635,-306618.197567331,189453.4098165084,60666.51871339694,-271905.2785421527,-136629.46501596697,-18568.077482638793,-106970.7261435358,-90835.28565592955,-75298.50611840861,-52806.21795822382,-402910.66098897136,129478.46130116147,-98647.52144292196,2933.752624506364,565924.2675809796,-28341.27018640358,1844.388744503345,-188988.7356008391,-98397.90634789932,518382.3818384212,-44407.04821593612,-213236.89635469372,31956.166548204936,-319400.4660457005,-209792.5620856812,-42890.131582840666,-45538.423066477946,-93982.03966342019,-337472.9187000527,-104239.43689954377,982707.1120191718,632229.5044494017,309368.2070726823,-50399.1798619178,35153.46518692812,-174730.74328344944,-8764.800308755941,-15836.502038258648,-335826.008304314,-346700.1039583094,250161.4925853149,392198.3770472688,-96568.12111713047,-169824.7391358312,68258.87082532208,-120334.74078557853,-232968.61172421783,-102136.39454075451,-183636.04108611136,15653.269262224861,-60989.71000393126,260028.2639037401,-21475.35082050205,-28847.569088466247,-65784.05391362218,837897.2266569907,975359.5190243099,1877174.6116210818,-198947.83426531884,309463.8182404035,1369663.364619897,-69355.51192199269,-49972.311841979135,82748.11350180497,-172634.4253775934,-345879.52386178955,-89061.75509715111,323611.66415083525,-30182.524568335433,-165977.5844039279,263846.0086531856,-66189.91768751392,533422.1899368761,233131.30428883334,338431.79512098304,589663.6959740397,1369720.9031050836,-11908.743967311291,702001.279014511,517926.8710319944,454402.15737185784,29416.700939017923,-858176.7786512763,-288422.6392082027,-42304.875811955644,-76960.12172600775,-79239.42297866603,-161730.8211869135,249086.032869106,26284.375710889868,-6337.890555206602,1866.1335122519754,-88206.63805104735,-63672.87765890257,461568.40922880766,205930.88314917855,-49564.654218866985,-54129.807203304204,1110826.709789968,169373.51666580627,-14359.948333153134,182115.93426613568,6768.64865513507,-797139.2686672218,-1423.5284701935964,-102046.85501440552,-61898.27849771793,-188619.76516471262,-177022.42257774115,-50862.91597520648,-140619.37538034664,-179128.4780795659,-189927.24044385098,-231060.14650925243,-238596.9451314635,-46405.02889717522,56645.930294950085,455398.5310606429,656926.2331082402,357722.9001490164,686679.4125469292,-595712.3140471223,-178699.44922271164,67081.36193990223,-12596.577943127042,365816.2047034163,223223.03295726134,-7601.781861256241,669747.4100544464,3288349.3374376693,518014.20177919057,60238.737455933384,-110241.32300792146,-102381.82538145274,254902.98443000647,857535.8156917072,247678.6360069868,-137847.62766364953,519371.79745638266,2058774.6747784517,99561.81652012694,197766.6471808145,-177902.3338690453,-468976.427596817,-50125.1449224079,-104095.04755587199,-88429.16528196515,-117170.33515965898,-215680.47821221425,50610.6910559614,-51804.80449790098,23717.492717650955,254010.59995075729,-159022.8211686818,-64770.88119817684,-109553.50398785018,97413.72020487564,-168317.15734302741,-45323.155295203855,-573377.3001629286,203582.56952639588,86276.44029032026,-411390.0107916635,44879.837229698394,214245.4462219893,-11153.111147142225,-46703.65747398967,-85413.18964721577,0.0,140143.99983012915,228810.31418084638,-253342.44808220453,128250.01324602467,244605.3719035431,262773.45824312634,-403841.13757381384,-143889.28148909914,-5073.18872296647,219431.27169079796,-50937.60851031257,-59334.95069242191,567289.2074222006,1001625.3762716223,0.0,1089173.2024909921,-154600.94876553433,1084582.7404062261,108093.81114550789,698730.2767948864,366482.92351626186,930433.6222650283,0.0,57801.07523062211,1440755.5515070742,61628.61511586606,18626.903980860174,86283.26677426611,541196.270989409,-208428.59579564305,-82246.05492832008,0.0,-123626.79074308646,8476.938742717928,0.0,0.0,-66330.70757753302,-40625.477256013386,-137348.4447133325,-17061.97715710523,-45619.9484566316,0.0,-97229.36727021226,0.0,-169775.84796091472,125744.98949648695,-59242.143404068316,-47340.935841353035,21937.194788741628,-104806.62402775181,126115.45534406138,-341119.9638570466,-88116.46308492492,0.0,-117998.06085591907,0.0,0.0,104819.99918813792,-87876.49188420904,0.0,10967.830754452392,-141473.63023841876,542640.3870106491,25156.84208505583,-140669.60289729413,-143720.47227369368,-82812.61853379087,0.0,-491748.0851595899,0.0,-35776.33148961392,-49470.17344041142,0.0,0.0,1702623.4997938946,0.0,-64034.73092184904,-80807.97347143618,242438.2652545221,196708.64929400245,104629.08891558863,-1343.8213568467795,-300171.00112274603,-104618.97103866785,-187249.5815647755,0.0,24264.77645804601,0.0,-207417.94093543445,-57554.445986504674,-106350.7166895266,-153500.74256975277,59480.96185230132,-280907.5950023019,0.0,-88540.05393047625,-23204.9999312471,-98109.10800952847,-246632.6899227155,0.0,-613695.6303879516,100264.61880915979,195723.90360274515,263462.8956392272,474271.4954915126,47302.44937247015,-224413.93203218112,0.0,0.0,0.0,868275.4783531214,1365246.1614445648,0.0,176494.56588065834,-388796.0312646122,0.0,2241320.154399619,1984859.155912303,-50446.96239125816,131017.95006248975,1166777.2038978208,0.0,-903303.0231801864,1812730.7489630121,0.0,4288588.187854239,-123525.88407732996,-77957.01011012167,-298564.9690615886,-83892.06698501839,0.0,-89119.01919765155,-135822.72673645697,-529801.2665932436,0.0,-36587.81000129551,59603.31747947949,-54217.40222522338,23893.429971991754,3688.79128353541,-27789.41706741859,-33804.56285568817,-55564.743453371,-10463.715566806324]\n",
      "Intercept: -65104565.34136161\n",
      "RMSE: 100405.705917\n",
      "R-SQUARED: 0.984887\n",
      "TRAINING DATASET DESCRIPTIVE SUMMARY: \n"
     ]
    },
    {
     "name": "stdout",
     "output_type": "stream",
     "text": [
      "+-------+-----------------+\n",
      "|summary|    selling_price|\n",
      "+-------+-----------------+\n",
      "|  count|             5556|\n",
      "|   mean|646392.2010439165|\n",
      "| stddev|816805.6165421646|\n",
      "|    min|            30000|\n",
      "|    max|         10000000|\n",
      "+-------+-----------------+\n",
      "\n",
      "TRAINING DATASET RESIDUALS: \n",
      "+-------------------+\n",
      "|          residuals|\n",
      "+-------------------+\n",
      "|  73244.06416709721|\n",
      "|-14658.439646415412|\n",
      "|  41851.88255918026|\n",
      "|-22794.554094344378|\n",
      "|  7874.821709707379|\n",
      "|  27874.82170970738|\n",
      "|-25580.541297502816|\n",
      "| -36872.22143688798|\n",
      "| -26872.22143688798|\n",
      "|-35437.869655542076|\n",
      "| -37528.70362345129|\n",
      "|-15528.703623451293|\n",
      "|-11882.130465991795|\n",
      "| -5154.632369719446|\n",
      "|-10230.466290034354|\n",
      "| 11941.292616680264|\n",
      "|-15886.948476605117|\n",
      "| 14113.051523394883|\n",
      "| 113967.62109922618|\n",
      "| 63889.967497982085|\n",
      "+-------------------+\n",
      "only showing top 20 rows\n",
      "\n"
     ]
    }
   ],
   "source": [
    "# Output Multi-variate Linear Regression Model Summary Statistics to evaluate the Training Model\n",
    "print(\"Model Coefficients: \" + str(multi_reg_model.coefficients))\n",
    "print(\"Intercept: \" + str(multi_reg_model.intercept))\n",
    "training_summary = multi_reg_model.summary\n",
    "print(\"RMSE: %f\" % training_summary.rootMeanSquaredError)\n",
    "print(\"R-SQUARED: %f\" % training_summary.r2)\n",
    "print(\"TRAINING DATASET DESCRIPTIVE SUMMARY: \")\n",
    "train_df.describe().show()\n",
    "print(\"TRAINING DATASET RESIDUALS: \")\n",
    "training_summary.residuals.show()"
   ]
  },
  {
   "cell_type": "code",
   "execution_count": 150,
   "id": "b7620176",
   "metadata": {},
   "outputs": [
    {
     "name": "stdout",
     "output_type": "stream",
     "text": [
      "TEST DATASET PREDICTIONS AGAINST ACTUAL TARGET VALUES: \n",
      "+--------------------+-------------+------------------+\n",
      "|            features|selling_price|        prediction|\n",
      "+--------------------+-------------+------------------+\n",
      "|(1283,[0,1,2,397,...|       250000| 223880.4335477054|\n",
      "|(1283,[0,1,2,397,...|       114999|118311.66423672438|\n",
      "|(1283,[0,1,2,397,...|       150000|159700.46253017336|\n",
      "|(1283,[0,1,2,397,...|       180000|153185.18581002206|\n",
      "|(1283,[0,1,2,397,...|       150000|190230.46629003435|\n",
      "|(1283,[0,1,2,397,...|       105000|112296.51844844967|\n",
      "|(1283,[0,1,2,397,...|       114999|153685.31674189866|\n",
      "|(1283,[0,1,2,397,...|        90000|55662.816277474165|\n",
      "|(1283,[0,1,2,397,...|       125000|118894.58270391822|\n",
      "|(1283,[0,1,2,399,...|       135000|119163.26290491968|\n",
      "|(1283,[0,1,2,399,...|       200000|256029.52092098445|\n",
      "|(1283,[0,1,2,399,...|       220000| 287645.4041342065|\n",
      "|(1283,[0,1,2,399,...|       270000| 287645.4041342065|\n",
      "|(1283,[0,1,2,399,...|       195000| 270271.3328804746|\n",
      "|(1283,[0,1,2,399,...|       246000| 266144.9909577146|\n",
      "|(1283,[0,1,2,399,...|       221000| 313831.8900806308|\n",
      "|(1283,[0,1,2,399,...|       225000|311660.13117391616|\n",
      "|(1283,[0,1,2,399,...|        70000|20739.580397039652|\n",
      "|(1283,[0,1,2,399,...|       130000|38239.030716605484|\n",
      "|(1283,[0,1,2,399,...|       140000| 68769.03447646648|\n",
      "|(1283,[0,1,2,399,...|        90000|64859.868444383144|\n",
      "|(1283,[0,1,2,399,...|        65000| 58344.59172423184|\n",
      "|(1283,[0,1,2,399,...|       160000|182076.63482322544|\n",
      "|(1283,[0,1,2,399,...|       215000|205961.05632854253|\n",
      "|(1283,[0,1,2,399,...|       250000| 250737.7985164672|\n",
      "|(1283,[0,1,2,399,...|       250000| 283439.5611830428|\n",
      "|(1283,[0,1,2,399,...|       220000| 219372.0219072327|\n",
      "|(1283,[0,1,2,399,...|       300000| 310711.9265828356|\n",
      "|(1283,[0,1,2,399,...|       145000|-16891.44860445708|\n",
      "|(1283,[0,1,2,399,...|       120000| 3865.640075184405|\n",
      "|(1283,[0,1,2,399,...|        70000|51769.715088777244|\n",
      "|(1283,[0,1,2,399,...|       200000|238424.55189871788|\n",
      "|(1283,[0,1,2,399,...|        50000|-56460.05223721266|\n",
      "|(1283,[0,1,2,399,...|        70000|39.261578410863876|\n",
      "|(1283,[0,1,2,399,...|        70000| 49680.74371737987|\n",
      "|(1283,[0,1,2,407,...|       400000|432495.71970718354|\n",
      "|(1283,[0,1,2,407,...|       450000| 502115.4977818504|\n",
      "|(1283,[0,1,2,407,...|       500000|500486.67860180885|\n",
      "|(1283,[0,1,2,407,...|       540000| 538292.0746991709|\n",
      "|(1283,[0,1,2,407,...|       570000|  534817.260448426|\n",
      "|(1283,[0,1,2,407,...|       450000| 526998.9283842444|\n",
      "|(1283,[0,1,2,407,...|       550000| 569690.7820217237|\n",
      "|(1283,[0,1,2,407,...|       640000| 569690.7820217237|\n",
      "|(1283,[0,1,2,407,...|       600000| 567519.0231150091|\n",
      "|(1283,[0,1,2,407,...|       550000| 540875.0666898638|\n",
      "|(1283,[0,1,2,407,...|       550000| 540875.0666898638|\n",
      "|(1283,[0,1,2,407,...|       567000| 606930.1196950376|\n",
      "|(1283,[0,1,2,407,...|       374000| 458476.4613061771|\n",
      "|(1283,[0,1,2,417,...|       455999|404832.53558728844|\n",
      "|(1283,[0,1,2,417,...|       370000|398751.61064848304|\n",
      "+--------------------+-------------+------------------+\n",
      "only showing top 50 rows\n",
      "\n"
     ]
    }
   ],
   "source": [
    "# Apply the Trained Linear Regression Model to the Test DataFrame to make predictions\n",
    "test_multi_reg_predictions_df = multi_reg_model.transform(test_df)\n",
    "print(\"TEST DATASET PREDICTIONS AGAINST ACTUAL TARGET VALUES: \")\n",
    "test_multi_reg_predictions_df.select(\"features\", \"selling_price\",\"prediction\").show(50)"
   ]
  },
  {
   "cell_type": "code",
   "execution_count": 154,
   "id": "ccc6d44b",
   "metadata": {},
   "outputs": [
    {
     "data": {
      "text/plain": [
       "<matplotlib.legend.Legend at 0x7fad71113370>"
      ]
     },
     "execution_count": 154,
     "metadata": {},
     "output_type": "execute_result"
    },
    {
     "data": {
      "image/png": "[encoded data removed]",
      "text/plain": [
       "<Figure size 1000x1000 with 1 Axes>"
      ]
     },
     "metadata": {},
     "output_type": "display_data"
    }
   ],
   "source": [
    "# Plotting the predicted value by linear regression against the original value\n",
    "import matplotlib.pyplot as plt\n",
    "graph_res = test_multi_reg_predictions_df.select('selling_price', 'prediction').toPandas()\n",
    "x13 = graph_res[\"selling_price\"]\n",
    "x14 = graph_res[\"prediction\"]\n",
    "plt.figure(figsize=(10,10))\n",
    "plt.scatter(np.arange(0,len(x13),1),x13,label='Original Price')\n",
    "plt.scatter(np.arange(0,len(x14),1),x14, label=\"Predicted Price\")\n",
    "plt.legend(loc=\"upper left\")"
   ]
  },
  {
   "cell_type": "code",
   "execution_count": 156,
   "id": "52933d5e",
   "metadata": {},
   "outputs": [
    {
     "name": "stdout",
     "output_type": "stream",
     "text": [
      "R2 for multi-variate linear regression is 0.9393243780324335\n",
      "RMSE for multi-variate linear regression is 198501.71000376903\n"
     ]
    }
   ],
   "source": [
    "# Model Evaluation\n",
    "from pyspark.ml.evaluation import RegressionEvaluator\n",
    "\n",
    "evaluator = RegressionEvaluator()\n",
    "evaluator.setPredictionCol(\"prediction\")\n",
    "evaluator.setLabelCol('selling_price')\n",
    "\n",
    "#regression\n",
    "\n",
    "#Multi-variate Linear Regression\n",
    "r2_multi_linear = evaluator.evaluate(test_multi_reg_predictions_df,{evaluator.metricName: \"r2\"})\n",
    "rmse_multi_linear = evaluator.evaluate(test_multi_reg_predictions_df,{evaluator.metricName: \"rmse\"})\n",
    "\n",
    "print(f\"R2 for multi-variate linear regression is {r2_multi_linear}\")\n",
    "print(f\"RMSE for multi-variate linear regression is {rmse_multi_linear}\")\n"
   ]
  },
  {
   "cell_type": "code",
   "execution_count": 158,
   "id": "2cf9b1fb",
   "metadata": {},
   "outputs": [],
   "source": [
    "# Stops Spark session\n",
    "spark.stop()"
   ]
  },
  {
   "cell_type": "code",
   "execution_count": null,
   "id": "08d18985",
   "metadata": {},
   "outputs": [],
   "source": []
  }
 ],
 "metadata": {
  "kernelspec": {
   "display_name": "Python 3 (ipykernel)",
   "language": "python",
   "name": "python3"
  },
  "language_info": {
   "codemirror_mode": {
    "name": "ipython",
    "version": 3
   },
   "file_extension": ".py",
   "mimetype": "text/x-python",
   "name": "python",
   "nbconvert_exporter": "python",
   "pygments_lexer": "ipython3",
   "version": "3.9.13"
  }
 },
 "nbformat": 4,
 "nbformat_minor": 5
}
